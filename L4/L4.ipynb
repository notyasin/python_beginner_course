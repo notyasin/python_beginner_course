{
 "cells": [
  {
   "cell_type": "markdown",
   "metadata": {
    "id": "scdZ5-ySKjXi"
   },
   "source": [
    "\n",
    "\n",
    "# レッスン4：Pythonのデータ型：文字列とDictionary（辞書）\n",
    "\n",
    "改めて、stringを紹介させてもらいます。\n",
    "\n",
    "プログラミングでは文字の並びを「文字列」(string) といいます。そして、ソースコードに直接文字列。）(いたものを「文字列リテラル」という言い方をします。文字列をあまり気にしなくてもいいです、しるだけでいいです。)\n",
    "\n",
    "Python では文字列は「‘」または「“」でテキストを囲むことによって記述できます。「‘」で文字列リテラルが始まったら、「‘」で終わり、「“」で始まったら\"で終わります。\n",
    "\n",
    "例："
   ]
  },
  {
   "cell_type": "code",
   "execution_count": 1,
   "metadata": {
    "colab": {
     "base_uri": "https://localhost:8080/"
    },
    "executionInfo": {
     "elapsed": 21,
     "status": "ok",
     "timestamp": 1648272004375,
     "user": {
      "displayName": "ステモン本郷",
      "photoUrl": "https://lh3.googleusercontent.com/a-/AOh14GjfZGgGihAObEBt0P9q-CkxeO2A8k9hQ7S4UxIL=s64",
      "userId": "10099309429124944812"
     },
     "user_tz": -540
    },
    "id": "yIHOm-H-qeqK",
    "outputId": "a6734ab4-bb1d-4e05-9e36-3b947371ff19"
   },
   "outputs": [
    {
     "name": "stdout",
     "output_type": "stream",
     "text": [
      "Hello\n",
      "This is Asumi\n"
     ]
    }
   ],
   "source": [
    "print(\"Hello\")\n",
    "print('This is Asumi')\n",
    "\n",
    "# 両方いけます"
   ]
  },
  {
   "cell_type": "markdown",
   "metadata": {
    "id": "TOG-545ZrH5V"
   },
   "source": [
    "## 4.1 Python の文字列の結合と繰り返し\n",
    "\n",
    "Pythonのstringはある程度Pythonの演算子（足し算「＋」と　掛け算「＊」）で操れる。\n",
    "<br>文字列の結合をするために + 演算子が使えます。"
   ]
  },
  {
   "cell_type": "code",
   "execution_count": 4,
   "metadata": {
    "id": "QkOwWZWaqrHb"
   },
   "outputs": [
    {
     "name": "stdout",
     "output_type": "stream",
     "text": [
      "computermousemonitor\n",
      "computer, mouse, monitor\n"
     ]
    }
   ],
   "source": [
    "a = \"computer\"\n",
    "b = \"mouse\"\n",
    "c = \"monitor\"\n",
    "\n",
    "total = a + b + c\n",
    "print(total)\n",
    "\n",
    "# 普通に「\" \"」の中のstringも結合できます。\n",
    "total2 = a + \", \" + b + \", \" + c\n",
    "print(total2)"
   ]
  },
  {
   "cell_type": "markdown",
   "metadata": {},
   "source": [
    "続いて、文字列を繰り返すためには * 演算子を用いて、繰り返し回数を指定することができます"
   ]
  },
  {
   "cell_type": "code",
   "execution_count": 8,
   "metadata": {},
   "outputs": [
    {
     "name": "stdout",
     "output_type": "stream",
     "text": [
      "lamplamp\n",
      "lamplamplamplamplamplamplamplamplamplamplamplamplamplamplamplamplamplamplamplamplamplamplamplamplamplamplamplamplamplamplamplamplamplamplamplamplamplamplamplamplamplamplamplamplamplamplamplamplamplamplamplamplamplamplamplamplamplamplamplamplamplamplamplamplamplamplamplamplamplamplamplamplamplamplamplamplamplamplamplamplamplamplamplamplamplamplamplamplamplamplamplamplamplamplamplamplamplamplamplamp\n"
     ]
    }
   ],
   "source": [
    "a = \"lamp\"\n",
    "print(a*2)\n",
    "print(a*100)"
   ]
  },
  {
   "cell_type": "markdown",
   "metadata": {},
   "source": [
    "**小さい課題** :いつつのバリアブルを作って、結合して、2回表してください。"
   ]
  },
  {
   "cell_type": "code",
   "execution_count": 9,
   "metadata": {},
   "outputs": [],
   "source": [
    "#コードはここから始めて書いてください。\n"
   ]
  },
  {
   "cell_type": "markdown",
   "metadata": {},
   "source": [
    "## 4.2 Python 文字列中の文字へのインデックスアクセス（指数）\n",
    "\n",
    "以前レッスン２と似ていて、文字列はListと同じようにインデックスを利用して、部分的にprintできます。\n",
    "<br>文字列中のそれぞれの文字へは０ベースのインデックスでアクセス可能です。\n",
    "\n",
    "Listとのシステムと全く同じです。\n",
    "<img src=\"indexing.png\" alt=\"Drawing\" style=\"width: 250px;\"/>\n",
    "\n",
    "次の例を見てみましょう。"
   ]
  },
  {
   "cell_type": "code",
   "execution_count": 9,
   "metadata": {},
   "outputs": [
    {
     "name": "stdout",
     "output_type": "stream",
     "text": [
      "S\n",
      "T\n",
      "O\n",
      "G\n",
      "H\n"
     ]
    }
   ],
   "source": [
    "hensuu = \"STEMON HONGO\"\n",
    "print(hensuu[0])\n",
    "print(hensuu[1])\n",
    "print(hensuu[4])\n",
    "\n",
    "print(hensuu[-2])\n",
    "print(hensuu[-5])"
   ]
  },
  {
   "cell_type": "code",
   "execution_count": 11,
   "metadata": {},
   "outputs": [
    {
     "name": "stdout",
     "output_type": "stream",
     "text": [
      "4\n",
      "10\n"
     ]
    }
   ],
   "source": [
    "# それと、逆に要素の順を見分けするため、この「.find()」機能で使えます。\n",
    "print(hensuu.find('O'))\n",
    "print(hensuu.find(\"G\"))"
   ]
  },
  {
   "cell_type": "markdown",
   "metadata": {},
   "source": [
    "**小さい課題** :下には、先生が作ったstringに基づき、インデックスを利用し、自分の名前を書いてください。"
   ]
  },
  {
   "cell_type": "code",
   "execution_count": 14,
   "metadata": {},
   "outputs": [],
   "source": [
    "alp = \"ABCDSEFGHIJKLMNOPQRSTUVWXYZ\"\n",
    "#　下から君のコードを書いてください。\n"
   ]
  },
  {
   "cell_type": "markdown",
   "metadata": {},
   "source": [
    "## 4.3 Python の Dictionary（辞書）とは？\n",
    "\n",
    "ディクショナリ (dictionary) というのは、**キー**(key)と**値**のペアを保持する機能です。\n",
    "\n",
    "ディクショナリは { } で記述できます。波型の括弧 { } は中括弧というものです。\n",
    "\n",
    "<img src=\"dict.jpg\" alt=\"Drawing\" style=\"width: 500px;\"/>\n",
    "\n",
    "例えば、name = Yasin, age = 24 という値を記述するには次のようにします。\n",
    "<br>この場合で、「name」と「age」はキーとなり、「Yasin」と「24」は値です（stringでもこの場合で値と言えます）。\n",
    "\n",
    "一ペアは「,」コマで分かれています。"
   ]
  },
  {
   "cell_type": "code",
   "execution_count": 1,
   "metadata": {},
   "outputs": [
    {
     "name": "stdout",
     "output_type": "stream",
     "text": [
      "Yasin\n",
      "24\n",
      "{'name': 'Yasin', 'age': 24}\n"
     ]
    }
   ],
   "source": [
    "# 定義の仕方\n",
    "dic = {\"name\" : \"Yasin\", \"age\" : 24}\n",
    "\n",
    "print(dic[\"name\"])\n",
    "print(dic[\"age\"])\n",
    "print(dic)"
   ]
  },
  {
   "cell_type": "markdown",
   "metadata": {},
   "source": [
    "既に定義されたdictionaryにキーと値を追加するため、次のように書けます。"
   ]
  },
  {
   "cell_type": "code",
   "execution_count": 32,
   "metadata": {},
   "outputs": [
    {
     "name": "stdout",
     "output_type": "stream",
     "text": [
      "{'name': 'Yasin', 'age': 24, 'school': 'Nagoya University', 'hobby': 'sleep'}\n"
     ]
    }
   ],
   "source": [
    "dic['school'] = 'Nagoya University'\n",
    "dic[\"hobby\"] = \"sleep\"\n",
    "print(dic)"
   ]
  },
  {
   "cell_type": "markdown",
   "metadata": {},
   "source": [
    "**小さい課題：**\n",
    "1. 上に定義されたdictinoaryを特定なキーを印刷してください。その後何かを追加してください。\n",
    "2. 以前定義されたキーを違う値を入れてもらって、どのような結果が出るか観察してみよう。"
   ]
  },
  {
   "cell_type": "code",
   "execution_count": null,
   "metadata": {},
   "outputs": [],
   "source": []
  },
  {
   "cell_type": "markdown",
   "metadata": {},
   "source": [
    "### Dictionaryの仕組みと使い方のルール\n",
    "\n",
    "Dictionaryができること：\n",
    "1. 値は入れ替えられる。\n",
    "2. 重複のキーは許さない。\n",
    "3. Listも値に代入できます。\n"
   ]
  },
  {
   "cell_type": "markdown",
   "metadata": {},
   "source": [
    "上に見せた方法はdictionaryの作り方の一つ、もう一つは次の次のように示します。\n",
    "\n",
    "それぞれ少し特徴があります：\n",
    "1. キーと値は前から既に決定されています。\n",
    "2. まだ何も決めていない状態；空っぽです。"
   ]
  },
  {
   "cell_type": "code",
   "execution_count": 2,
   "metadata": {},
   "outputs": [],
   "source": [
    "#第一の仕方。\n",
    "dict1 = {\"morning\" : \"asa\", \"night\" : \"yoru\", \"noon\" : \"hiru\"}\n",
    "\n",
    "#第二の仕方。\n",
    "dict2 = {}\n",
    "dict2[\"morning\"] = \"asa\"\n",
    "dict2[\"night\"] = \"yoru\"\n",
    "dict2[\"noon\"] = \"hiru\""
   ]
  },
  {
   "cell_type": "code",
   "execution_count": 3,
   "metadata": {},
   "outputs": [
    {
     "name": "stdout",
     "output_type": "stream",
     "text": [
      "{'morning': 'asa', 'night': 'yoru', 'noon': 'hiru'}\n",
      "{'morning': 'asa', 'night': 'yoru', 'noon': 'hiru'}\n"
     ]
    }
   ],
   "source": [
    "print(dict1)\n",
    "print(dict2)"
   ]
  },
  {
   "cell_type": "markdown",
   "metadata": {},
   "source": [
    "## 最後の課題\n",
    "1. 先生が作ったdictionaryが間違いがあって、訂正してください。\n",
    "2. その後、いくつか語彙リストから参考して自分のdictionaryを作ってください（語彙リストを先生が見せます）。もっと理解できるようになるため、両方のdictionaryの作り方を試しても良い。"
   ]
  },
  {
   "cell_type": "code",
   "execution_count": null,
   "metadata": {},
   "outputs": [],
   "source": []
  }
 ],
 "metadata": {
  "colab": {
   "authorship_tag": "ABX9TyPBFliqB+dCFBbrl0Wn5a+G",
   "name": "L4.ipynb",
   "provenance": []
  },
  "kernelspec": {
   "display_name": "Python 3",
   "language": "python",
   "name": "python3"
  },
  "language_info": {
   "codemirror_mode": {
    "name": "ipython",
    "version": 3
   },
   "file_extension": ".py",
   "mimetype": "text/x-python",
   "name": "python",
   "nbconvert_exporter": "python",
   "pygments_lexer": "ipython3",
   "version": "3.7.4"
  }
 },
 "nbformat": 4,
 "nbformat_minor": 1
}
