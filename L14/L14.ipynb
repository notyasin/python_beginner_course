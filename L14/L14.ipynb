{
 "cells": [
  {
   "cell_type": "markdown",
   "metadata": {},
   "source": [
    "# レッスン１４：Python の関数：別のファイルから関数を呼び出す\n",
    "\n",
    "前回関数を学びましたね。この授業では、より一般的なモジュールの使い方を紹介します。\n",
    "\n",
    "## モジュールとは？\n",
    "Python で別のファイルに書いた関数を呼び出す方法について、説明します。\n",
    "\n",
    "Python ではひとつひとつのファイルは「モジュール」(module) ということができます。つまり、「他のファイルに書いた関数を呼ぶ」ということは「他のモジュールの関数を呼ぶ」といえます。\n",
    "\n",
    "今回では、自分で書いたモジュール（あるいは、Pythonファイル）はこのレッスン１４と同じフォルダーに入れないとモジュールは呼べません。次の図で確認しましょう。\n",
    "\n",
    "<img src=\"pic1.png\" alt=\"Drawing\" style=\"width: 350px;\"/>\n",
    "\n",
    "図に示すように、他のファイルあるいはモジュールに書いた関数を呼べます。\n",
    "\n",
    "<img src=\"pic3.png\" alt=\"Drawing\" style=\"width: 450px;\"/>\n",
    "\n",
    "試しに、 module_1.py というファイル内で定義した add_() という関数を呼び出してみましょう。下の例で呼べます。"
   ]
  },
  {
   "cell_type": "code",
   "execution_count": 7,
   "metadata": {},
   "outputs": [
    {
     "data": {
      "text/plain": [
       "7"
      ]
     },
     "execution_count": 7,
     "metadata": {},
     "output_type": "execute_result"
    }
   ],
   "source": [
    "import module_1\n",
    "\n",
    "module_1.add_(3, 4)"
   ]
  },
  {
   "cell_type": "code",
   "execution_count": 3,
   "metadata": {},
   "outputs": [
    {
     "data": {
      "text/plain": [
       "1"
      ]
     },
     "execution_count": 3,
     "metadata": {},
     "output_type": "execute_result"
    }
   ],
   "source": [
    "module_1.subtract_(5, 4)"
   ]
  },
  {
   "cell_type": "markdown",
   "metadata": {},
   "source": [
    " **いつこのような書き方が必要ですか？**\n",
    "<br>このようなモジュールは、多くのコーダーによって用意されており、ゼロから始めることなく、便利にPythonのコードを作成することができます。"
   ]
  },
  {
   "cell_type": "markdown",
   "metadata": {},
   "source": [
    "### Importとは？\n",
    "\n",
    "import（インポート）はこういう定義があります：\n",
    "<br> コンピューターで，あるアプリケーション-ソフトウエアが，別のソフトウエアで作成されたデータを取り込むこと。\n",
    "\n",
    "つまり、importする時、そのモジュールに書いた関数をこのファイルに取り込みます。"
   ]
  },
  {
   "cell_type": "code",
   "execution_count": 4,
   "metadata": {},
   "outputs": [
    {
     "name": "stdout",
     "output_type": "stream",
     "text": [
      "yasin\n",
      "asumi\n",
      "xuan\n",
      "austin\n"
     ]
    }
   ],
   "source": [
    "import module_1\n",
    "\n",
    "module_1.myname()"
   ]
  },
  {
   "cell_type": "markdown",
   "metadata": {},
   "source": [
    "さて、module_1.py を使ってみよう。全て入っている関数を出してみてください"
   ]
  },
  {
   "cell_type": "code",
   "execution_count": 10,
   "metadata": {},
   "outputs": [
    {
     "name": "stdout",
     "output_type": "stream",
     "text": [
      "[83, 4, 21, 31, 79, 85, 64, 29, 97, 31, 70, 40, 35, 62, 20, 59, 58, 76, 57, 65, 37, 29, 15, 17, 6, 97, 21, 46, 1, 61, 83, 18, 97, 32, 78, 70, 80, 23, 57, 34, 6, 77, 33, 99, 43, 52, 28, 57, 47, 45, 35, 21, 43, 62, 65, 17, 18, 78, 92, 22, 78, 76, 14, 22, 44, 29, 45, 59, 49, 81, 0, 5, 42, 5, 58, 45, 50, 87, 6, 44, 35, 46, 59, 37, 66, 43, 31, 93, 64, 51, 81, 60, 81, 81, 77, 84, 39, 84, 75, 83]\n"
     ]
    }
   ],
   "source": [
    "#この下から始めてください\n",
    "import module_1\n",
    "\n",
    "module_1.add_(900, 100)\n",
    "hensuu = module_1.random_number_generator()\n",
    "print(hensuu)"
   ]
  },
  {
   "cell_type": "markdown",
   "metadata": {},
   "source": [
    "## 自分で関数を書きましょう。\n",
    "\n",
    "今までいろいろPythonの機能を学んだね。以前勉強したことをここで応用してみましょう。まずこのしたで直接試してください。コードがちゃんと動けるようになったら、moduleにコピペして、ここでimportして、また実行してみてください。\n",
    "\n",
    "**課題１：for文でこのような結果を得てください。**\n",
    "\n",
    "```Python\n",
    "# 最初的になにも入っていないリスト：\n",
    "list_ = []\n",
    "\n",
    "#結果\n",
    "list_ = [1, 3, 5, 7, 9, 11]\n",
    "```"
   ]
  },
  {
   "cell_type": "code",
   "execution_count": 4,
   "metadata": {},
   "outputs": [],
   "source": [
    "# 課題１\n"
   ]
  },
  {
   "cell_type": "code",
   "execution_count": null,
   "metadata": {},
   "outputs": [],
   "source": [
    "\n"
   ]
  },
  {
   "cell_type": "markdown",
   "metadata": {},
   "source": [
    "**課題２：下に用意した `list0` には数値が入っています。要素を二つに分かれて欲しい、`list1`は50未満の数値しか受け入れない。一方`list2`は50以降しか受け入れないリストです。** ヒント：100個の要素が入っています。\n",
    "\n",
    "```Python\n",
    "list0 = [89, 52, 26, 24, 64, 68, 97, 49, 46, 29, 59, 64, 69, 52, 89, 55, 23, 96, 16, 28, 84, 55, 88, 11, 0, 3, 90, 93, 88, 8, 36, 47, 38, 26, 43, 24, 84, 50, 32, 18, 32, 26, 24, 57, 37, 34, 87, 35, 61, 51, 97, 8, 10, 32, 77, 79, 53, 89, 33, 17, 45, 11, 94, 73, 44, 89, 60, 38, 82, 66, 43, 18, 18, 28, 73, 75, 97, 50, 71, 37, 42, 99, 97, 59, 46, 90, 28, 26, 81, 18, 63, 20, 52, 24, 14, 45, 57, 92, 62, 24]\n",
    "\n",
    "list1 = []\n",
    "list2 = []\n",
    "\n",
    "```"
   ]
  },
  {
   "cell_type": "code",
   "execution_count": 17,
   "metadata": {},
   "outputs": [],
   "source": [
    "# 課題２\n"
   ]
  },
  {
   "cell_type": "markdown",
   "metadata": {},
   "source": [
    "**課題３：下に用意した `list1` には数値が入っています。「結果」に示したような結果を得てください** \n",
    "\n",
    "```Python\n",
    "list1 = [0, 10, 20, 30, 40, 50]\n",
    "```\n",
    "```\n",
    "結果：\n",
    "50 40 30 20 10 0\n",
    "```"
   ]
  },
  {
   "cell_type": "code",
   "execution_count": null,
   "metadata": {},
   "outputs": [],
   "source": []
  },
  {
   "cell_type": "markdown",
   "metadata": {},
   "source": [
    "## 例：mathモジュール\n",
    "\n",
    "Pythonではmathというモジュールが存在します。そのモジュールの中にはいろいろな関数が入っています。少しだけ検討してみよう。\n",
    "\n",
    "**一つ目の例は、全てリストに入っている数値を１行のコードで合計することができます。前作ったリストをまた利用しましょう**"
   ]
  },
  {
   "cell_type": "code",
   "execution_count": 22,
   "metadata": {},
   "outputs": [
    {
     "data": {
      "text/plain": [
       "5103.0"
      ]
     },
     "execution_count": 22,
     "metadata": {},
     "output_type": "execute_result"
    }
   ],
   "source": [
    "import math\n",
    "list0 = [89, 52, 26, 24, 64, 68, 97, 49, 46, 29, 59, 64, 69, 52, 89, 55, 23, 96, 16, 28, 84, 55, 88, 11, 0, 3, 90, 93, 88, 8, 36, 47, 38, 26, 43, 24, 84, 50, 32, 18, 32, 26, 24, 57, 37, 34, 87, 35, 61, 51, 97, 8, 10, 32, 77, 79, 53, 89, 33, 17, 45, 11, 94, 73, 44, 89, 60, 38, 82, 66, 43, 18, 18, 28, 73, 75, 97, 50, 71, 37, 42, 99, 97, 59, 46, 90, 28, 26, 81, 18, 63, 20, 52, 24, 14, 45, 57, 92, 62, 24]\n",
    "\n",
    "math.fsum(list0)"
   ]
  },
  {
   "cell_type": "markdown",
   "metadata": {},
   "source": [
    "２つ目の例は、三角法の式も既に用意されます。\n",
    "```Python\n",
    "math.cos()\n",
    "math.sin()\n",
    "math.tan()\n",
    "```"
   ]
  },
  {
   "cell_type": "code",
   "execution_count": null,
   "metadata": {},
   "outputs": [],
   "source": []
  },
  {
   "cell_type": "markdown",
   "metadata": {},
   "source": [
    "# 最後の課題\n",
    " - 全て上に書いたコードをmoduleに移して、ここで実行してみましょう。"
   ]
  },
  {
   "cell_type": "code",
   "execution_count": null,
   "metadata": {},
   "outputs": [],
   "source": []
  }
 ],
 "metadata": {
  "kernelspec": {
   "display_name": "Python 3",
   "language": "python",
   "name": "python3"
  },
  "language_info": {
   "codemirror_mode": {
    "name": "ipython",
    "version": 3
   },
   "file_extension": ".py",
   "mimetype": "text/x-python",
   "name": "python",
   "nbconvert_exporter": "python",
   "pygments_lexer": "ipython3",
   "version": "3.7.4"
  }
 },
 "nbformat": 4,
 "nbformat_minor": 4
}
