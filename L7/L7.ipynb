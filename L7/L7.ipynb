{
 "cells": [
  {
   "cell_type": "markdown",
   "metadata": {},
   "source": [
    "# レッスン７：Pythonデータ型：Python の Set\n",
    "\n",
    "今回の講座はPythonのSetというとても便利な機能を習います。\n",
    "\n",
    "Set (セット、「集合」の意) というのは、順序付けされていない一意の要素 (重複のない要素) で構成された、コレクションです。\n",
    "\n",
    "セットを作成するには ```set``` を呼びます。\n",
    "\n",
    "次の例をみてください。ここでは、リストと文字列からセットを作成しています。"
   ]
  },
  {
   "cell_type": "code",
   "execution_count": 20,
   "metadata": {},
   "outputs": [
    {
     "name": "stdout",
     "output_type": "stream",
     "text": [
      "{'a', 'b', 'c'}\n",
      "{'l', 'e', 'H', 'o'}\n"
     ]
    }
   ],
   "source": [
    "list_ = ['a', 'a', 'b', 'c', 'c', 'a']\n",
    "set_ = set(L) # リストからセットを作成\n",
    "print(set_)\n",
    "m = set('Hello') # 文字列からセットを作成\n",
    "print(m)"
   ]
  },
  {
   "cell_type": "code",
   "execution_count": 4,
   "metadata": {},
   "outputs": [
    {
     "name": "stdout",
     "output_type": "stream",
     "text": [
      "{1, 2, 3, 6}\n"
     ]
    }
   ],
   "source": [
    "list2 = [1, 2, 3, 2, 1, 3, 3, 6, 6, 1, 1]\n",
    "set2 = set(list2)\n",
    "print(set2)"
   ]
  },
  {
   "cell_type": "markdown",
   "metadata": {},
   "source": [
    "改めて、set機能を実行すると、複数表しているlistの要素がなくなります。\n",
    "\n",
    "そこで、次の小さい課題を見てみましょう。\n",
    "1. 先生が良いした長いlistの内容にいくつの異なる整数があるか、set機能で確かめてください。（コピペして使ってください）。\n",
    "<br>```[45, 47, 45, 52, 48, 52, 48, 54, 45, 51, 45, 51, 45, 51, 45, 51, 49, 48, 53, 50, 46, 52, 48, 51, 50, 50, 52, 47, 50, 46, 48, 51, 46, 51, 49, 50, 48, 50, 50, 52, 49, 51, 51, 54, 50, 52, 50, 45, 53, 54, 46, 49, 48, 45, 52, 46, 45, 50, 45, 45, 50, 45, 53, 47, 49, 53, 47, 48, 54, 51, 52, 48, 46, 46, 51, 53, 49, 48, 49, 49, 52, 51, 46, 50, 48, 53, 50, 51, 52, 53, 50, 53, 52, 54, 49, 46, 50, 46, 45, 48, 45, 46, 48, 46, 50, 48, 54, 52, 47, 46, 46, 48, 53, 52, 47, 48, 45, 47, 54, 46, 48, 46, 47, 49, 50, 49, 49, 46, 54, 51, 47, 45, 50, 54, 48, 52, 54, 48, 49, 53, 53, 45, 48, 54, 53, 47, 45, 52, 53, 50, 53, 54, 52, 49, 50, 46, 48, 48, 54, 46, 48, 53, 50, 49, 49, 47, 45, 47, 53, 49, 47, 52, 51, 52, 46, 54, 52, 47, 51, 45, 49, 49, 50, 48, 45, 52, 50, 45, 48, 53, 49, 46, 53, 51, 51, 46, 47, 48, 48, 51, 49, 53, 48, 52, 48, 54, 52, 51, 54, 53, 48, 45, 46, 50, 46, 45, 51, 48, 46, 47, 46, 53, 45, 46, 53, 51, 53, 49, 50, 52, 50, 50, 52, 50, 50, 51, 45, 53, 52, 50, 50, 53, 52, 50, 46, 47, 54, 50, 48, 51, 49, 53, 54, 54, 51, 51, 51, 54, 46, 49, 51, 51, 52, 47, 54, 45, 50, 48, 46, 54, 47, 45, 52, 45, 52, 52, 47, 45, 48, 51, 47, 45, 54, 46, 54, 47, 52, 54, 45, 51, 54, 53, 45, 54, 48, 52, 47, 54, 52, 53]```\n",
    "2. 次、自分で作ったlistに複数同じ文字列何回書いて、set機能でその複数を削除してください"
   ]
  },
  {
   "cell_type": "code",
   "execution_count": null,
   "metadata": {},
   "outputs": [],
   "source": []
  },
  {
   "cell_type": "markdown",
   "metadata": {},
   "source": [
    "## 6.1 Python Set の演算\n",
    "\n",
    "セットは下記のような算術演算ができます。\n",
    "\n",
    "|算術演算|意味|\n",
    "|:------|:---|\n",
    "|A - B    |A から B に含まれる要素を削除|\n",
    "|A ｜ B     | A と B の要素の和|\n",
    "|A & B      | A と B の両方に含まれる要素|\n",
    "|A ^ B       |  A と B に含まれるが、両方に含まれるものを除く|\n"
   ]
  },
  {
   "cell_type": "code",
   "execution_count": 19,
   "metadata": {},
   "outputs": [
    {
     "name": "stdout",
     "output_type": "stream",
     "text": [
      "{'e', 'H'}\n",
      "{'e', 'W', 'l', 'H', 'd', 'r', 'o'}\n",
      "{'l', 'o'}\n",
      "{'d', 'e', 'W', 'r', 'H'}\n"
     ]
    }
   ],
   "source": [
    "A = set('Hello') # セット A を作成\n",
    "B = set('World') # セット B を作成\n",
    "print(A - B)\n",
    "print(A | B)\n",
    "print(A & B)\n",
    "print(A ^ B)"
   ]
  },
  {
   "cell_type": "markdown",
   "metadata": {},
   "source": [
    "**それで、それぞれの算術演算をこの下の欄に練習コードを書いてみましょう。Setは用意しました。**"
   ]
  },
  {
   "cell_type": "code",
   "execution_count": 21,
   "metadata": {},
   "outputs": [],
   "source": [
    "set1 = set([1, 2, 2, 3, 4, 4, 4, 5, 6])\n",
    "set2 = set([3, 4, 5, 6, 7, 8, 3, 3, 4])\n",
    "\n"
   ]
  },
  {
   "cell_type": "markdown",
   "metadata": {},
   "source": [
    "## 6.2 PythonのSetの包含関係\n",
    "\n",
    "次のセットを考えます。この下の図はVenn Diagramという図です＝ベン図。\n",
    "\n",
    "<img src=\"venn.png\" alt=\"Drawing\" style=\"width: 200px;\"/>\n",
    "\n",
    "**黒い文字は要素(元)であり、灰色の文字はセットの名前にしています。**\n",
    "\n",
    "A, B, C それぞれの要素 (数学的に言えば元) は次の通りです。まず、それぞれの変数を設定しましょう。"
   ]
  },
  {
   "cell_type": "code",
   "execution_count": 1,
   "metadata": {},
   "outputs": [],
   "source": [
    "A = { 1, 2, 4 }\n",
    "B = { 2, 3, 5 }\n",
    "C = { 2, 3, 4, 5 }"
   ]
  },
  {
   "cell_type": "code",
   "execution_count": 12,
   "metadata": {},
   "outputs": [
    {
     "name": "stdout",
     "output_type": "stream",
     "text": [
      "True\n"
     ]
    }
   ],
   "source": [
    "print(B < C)"
   ]
  },
  {
   "cell_type": "markdown",
   "metadata": {},
   "source": [
    "このとき、セット B はセット C の真部分集合であるため、次の式が True となります。この場合でしたら、小なりまたは大なりの意味は普通よりちょっと違います。\n",
    "\n",
    "**重要：結果はそのまま以前と同じようにBool論理データ型になります。TrueかFalseです。**\n",
    "\n",
    "次、他の演算子を使って、意味を理解して、結果を確認してみましょう。"
   ]
  },
  {
   "cell_type": "code",
   "execution_count": 13,
   "metadata": {},
   "outputs": [
    {
     "name": "stdout",
     "output_type": "stream",
     "text": [
      "False\n",
      "False\n"
     ]
    }
   ],
   "source": [
    "print(A <= B)\n",
    "print(A <= C)"
   ]
  },
  {
   "cell_type": "markdown",
   "metadata": {},
   "source": [
    "A は B （または、AはC）の部分集合ではありません。ですが、ある場合でBはAと同じ要素を持って、「<=」の演算子を使って、Trueになります。\n",
    "<br>なぜなら、その演算子は二つ意味を持ってます。:\n",
    "1. AセットはBセットの部分集合かどうか。\n",
    "2. AセットはBセットと等しいかどうか。\n",
    "\n",
    "次の例に見てみましょう。"
   ]
  },
  {
   "cell_type": "code",
   "execution_count": 10,
   "metadata": {},
   "outputs": [
    {
     "name": "stdout",
     "output_type": "stream",
     "text": [
      "True\n",
      "True\n"
     ]
    }
   ],
   "source": [
    "A = { 1, 2, 4 }\n",
    "D = { 1, 2, 4 }\n",
    "\n",
    "print(A <= D)\n",
    "# 逆にすれば、同じ結果が出てきます\n",
    "print(D <= A)"
   ]
  },
  {
   "cell_type": "markdown",
   "metadata": {},
   "source": [
    "また一つの状態を例にしましょう。AとDは同じ要素を持っていて、それはお互いに部分集合ではありません。"
   ]
  },
  {
   "cell_type": "code",
   "execution_count": 15,
   "metadata": {},
   "outputs": [
    {
     "name": "stdout",
     "output_type": "stream",
     "text": [
      "False\n",
      "False\n",
      "True\n"
     ]
    }
   ],
   "source": [
    "print(D < A)\n",
    "print(A < D)\n",
    "print(A == D)"
   ]
  },
  {
   "cell_type": "markdown",
   "metadata": {},
   "source": [
    "## 最後の課題：\n",
    "\n",
    "1. setを作ってください。ですが、そのsetはlistから変革してください。\n",
    "2. 直接setを作ってください。\n",
    "3. この下の図を基づいて、setの包含関係で表してください。（難しすぎたら、先生も手伝います）。\n",
    "\n",
    "<img src=\"venn3.png\" alt=\"Drawing\" style=\"width: 200px;\"/>\n"
   ]
  },
  {
   "cell_type": "code",
   "execution_count": null,
   "metadata": {},
   "outputs": [],
   "source": []
  }
 ],
 "metadata": {
  "kernelspec": {
   "display_name": "Python 3",
   "language": "python",
   "name": "python3"
  },
  "language_info": {
   "codemirror_mode": {
    "name": "ipython",
    "version": 3
   },
   "file_extension": ".py",
   "mimetype": "text/x-python",
   "name": "python",
   "nbconvert_exporter": "python",
   "pygments_lexer": "ipython3",
   "version": "3.7.4"
  }
 },
 "nbformat": 4,
 "nbformat_minor": 2
}
