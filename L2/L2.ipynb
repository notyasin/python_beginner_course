{
 "cells": [
  {
   "cell_type": "markdown",
   "metadata": {},
   "source": [
    "# レッスン2 - Listとその扱い方。\n",
    "## 2.1 Listとは？\n",
    "\n",
    "リストとはScratchのリスト機能と同じです。複数なデータを順番に保管できる機能です。\n",
    "\n",
    "例、stringと数字を保管する：\n",
    "```Python\n",
    "list1 = [\"十一\", \"先生\", \"モニター\"]\n",
    "list2 = [34, 45, 399]\n",
    "list3 = [12.3, 45.333, 4.557]\n",
    "```\n",
    "Listがprintできます。次の例に表します。\n",
    "\n",
    "**必ず二つ異なるデータの間に「,」を入れること。それが必要です。**\n",
    "\n",
    "**課題：もう一回先週と似ている課題をしましょう。今回は数字しか入っていないリストを作ってください。**"
   ]
  },
  {
   "cell_type": "code",
   "execution_count": null,
   "metadata": {},
   "outputs": [],
   "source": [
    "# 君のコードはこの下から始めてください。\n"
   ]
  },
  {
   "cell_type": "markdown",
   "metadata": {},
   "source": [
    "## 2.2リストの基本操作：インデックス（指数）\n",
    "\n",
    "リスト内の要素には、インデックス（指数）を使ってアクセス可能です。ゼロベースのインデックスです。\n",
    "\n",
    "例とすると："
   ]
  },
  {
   "cell_type": "code",
   "execution_count": 2,
   "metadata": {},
   "outputs": [
    {
     "name": "stdout",
     "output_type": "stream",
     "text": [
      "Lそのまま表す： [2, 4, 6, 8, 10]\n",
      "これは最初の要素： 2\n",
      "これは第二の要素： 4\n"
     ]
    }
   ],
   "source": [
    "L = [2,4,6,8,10]\n",
    "print(\"Lそのまま表す：\", L)\n",
    "print(\"これは最初の要素：\", L[0])\n",
    "print(\"これは第二の要素：\", L[1])"
   ]
  },
  {
   "cell_type": "markdown",
   "metadata": {},
   "source": [
    "さっき自分が作ったリストを基づき、下の欄にインデックスで遊んでみてください。"
   ]
  },
  {
   "cell_type": "code",
   "execution_count": null,
   "metadata": {},
   "outputs": [],
   "source": [
    "# 君のコードはこの下から始めてください。\n"
   ]
  },
  {
   "cell_type": "markdown",
   "metadata": {},
   "source": [
    "### Pythonリストのインデックス（指数）の仕組み："
   ]
  },
  {
   "cell_type": "markdown",
   "metadata": {},
   "source": [
    "<img src=\"indexing.png\" alt=\"Drawing\" style=\"width: 250px;\"/>"
   ]
  },
  {
   "cell_type": "markdown",
   "metadata": {},
   "source": [
    "リスト前から始まる場合、インデックス数は０からです（ゼロベースという）。リストの後ろから指数する場合、-1からです。\n",
    "\n",
    "上の　L リストを利用し、リストの後ろから指数する例を挙げます。"
   ]
  },
  {
   "cell_type": "code",
   "execution_count": 5,
   "metadata": {},
   "outputs": [
    {
     "name": "stdout",
     "output_type": "stream",
     "text": [
      "最後の要素： 10\n",
      "最後から4番目の要素： 4\n"
     ]
    }
   ],
   "source": [
    "K = [2,4,6,8,10]\n",
    "print(\"最後の要素：\", K[-1])\n",
    "print(\"最後から4番目の要素：\", K[-4])"
   ]
  },
  {
   "cell_type": "markdown",
   "metadata": {},
   "source": [
    "**課題：この下に先生が作ったheheというリストから、最初の要素と最後の要素を別々にprintしてください。**"
   ]
  },
  {
   "cell_type": "code",
   "execution_count": 13,
   "metadata": {},
   "outputs": [],
   "source": [
    "hehe = [7,5,11,4,6,3,8,9,1]\n",
    "# 君のコードはこの下から始めてください。\n"
   ]
  },
  {
   "cell_type": "markdown",
   "metadata": {},
   "source": [
    "コロン「:」を使って、要素の範囲指定を行うことによって、その範囲内の要素だけ指定できます。例："
   ]
  },
  {
   "cell_type": "code",
   "execution_count": 14,
   "metadata": {},
   "outputs": [
    {
     "name": "stdout",
     "output_type": "stream",
     "text": [
      "[7]\n",
      "[7, 5]\n",
      "[7, 5, 3]\n"
     ]
    }
   ],
   "source": [
    "print(hehe[0:1])\n",
    "print(hehe[0:2])\n",
    "print(hehe[0:3])"
   ]
  },
  {
   "cell_type": "markdown",
   "metadata": {},
   "source": [
    "### Pythonリストのsort( )：\n",
    "\n",
    "「sort」とは、直接日本語で訳すれば、「並べ替え」と意味します。\n",
    "\n",
    "Pythonでsort()を使えば、数字が入ってるリストの要素を昇順に並べ替えます。\n",
    "\n",
    "例えば、またheheのリストを利用しましょう："
   ]
  },
  {
   "cell_type": "code",
   "execution_count": 17,
   "metadata": {},
   "outputs": [
    {
     "name": "stdout",
     "output_type": "stream",
     "text": [
      "[7, 5, 11, 4, 6, 3, 8, 9, 1]\n",
      "[1, 3, 4, 5, 6, 7, 8, 9, 11]\n"
     ]
    }
   ],
   "source": [
    "hehe = [7,5,11,4,6,3,8,9,1]\n",
    "print(hehe)\n",
    "\n",
    "hehe.sort()\n",
    "print(hehe)"
   ]
  },
  {
   "cell_type": "markdown",
   "metadata": {},
   "source": [
    "この上の結果を見れば、sort()機能を使う前に、そのままheheをprintしました。\n",
    "\n",
    "が、sort()した後、ちゃんと昇順に並べ替えました。"
   ]
  },
  {
   "cell_type": "markdown",
   "metadata": {},
   "source": [
    "### Pythonリストのappend()機能：\n",
    "#### 注意：この機能は基本的に非常に重要で、きちんと覚えといてください。\n",
    "\n",
    "リストの末尾に要素を追加するには「append」関数を、末尾から要素を取り出すには「pop」関数を用います。 \n",
    "<br>これらの関数によって、リストをスタック(stack = 重ねる)のように利用することが可能になります。\n",
    "\n",
    "**例第一、またheheを利用します：**"
   ]
  },
  {
   "cell_type": "code",
   "execution_count": 18,
   "metadata": {},
   "outputs": [
    {
     "name": "stdout",
     "output_type": "stream",
     "text": [
      "[7, 5, 11, 4, 6, 3, 8, 9, 1, 100]\n"
     ]
    }
   ],
   "source": [
    "hehe = [7,5,11,4,6,3,8,9,1]\n",
    "hehe.append(100)\n",
    "print(hehe)"
   ]
  },
  {
   "cell_type": "markdown",
   "metadata": {},
   "source": [
    "結果に見えるように、100は要素として追加されています。\n",
    "<br>現在heheは100が入っているまま存在しています\n",
    "\n",
    "**例第二、またheheを利用します：**"
   ]
  },
  {
   "cell_type": "code",
   "execution_count": 19,
   "metadata": {},
   "outputs": [
    {
     "name": "stdout",
     "output_type": "stream",
     "text": [
      "[7, 5, 11, 4, 6, 3, 8, 9]\n"
     ]
    }
   ],
   "source": [
    "hehe = [7,5,11,4,6,3,8,9,1]\n",
    "hehe.pop()\n",
    "print(hehe)"
   ]
  },
  {
   "cell_type": "markdown",
   "metadata": {},
   "source": [
    "今回は、100は末尾から削除されていました。"
   ]
  },
  {
   "cell_type": "markdown",
   "metadata": {},
   "source": [
    "# 最後の課題：\n",
    "\n",
    "まず、下に書かれているListをコピペしてください。\n",
    "```Python\n",
    "copy = [45, 7, 4, -2, -154, 95, 91, -91, 43, 71, -66]\n",
    "```\n",
    "それで、そのListを並べ替えましょう。先ほど学んだ機能で。\n",
    "<br>それを終わったら、末尾に表した数字を削除しましょう。\n",
    "<br>最後に、お好きな番号をListの末尾を一つ追加してください。"
   ]
  },
  {
   "cell_type": "code",
   "execution_count": null,
   "metadata": {},
   "outputs": [],
   "source": []
  }
 ],
 "metadata": {
  "kernelspec": {
   "display_name": "Python 3",
   "language": "python",
   "name": "python3"
  },
  "language_info": {
   "codemirror_mode": {
    "name": "ipython",
    "version": 3
   },
   "file_extension": ".py",
   "mimetype": "text/x-python",
   "name": "python",
   "nbconvert_exporter": "python",
   "pygments_lexer": "ipython3",
   "version": "3.8.3"
  }
 },
 "nbformat": 4,
 "nbformat_minor": 2
}
