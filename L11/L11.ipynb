{
 "cells": [
  {
   "cell_type": "markdown",
   "metadata": {},
   "source": [
    "# レッスン１１：Python の制御文　➡　while文 \n",
    "\n",
    "\n",
    "以前勉強したfor文と似ていて、while文の役割もコードを繰り返すための制御文です。\n",
    "\n",
    "一つ大違いのところは条件の部分です。for文と同じ、繰り返しをちゃんと制御するため、条件を設定しないといけないです。\n",
    "\n",
    "まず、for文を復習しましょう。\n",
    "```Python\n",
    "for i in (条件=list1):\n",
    "    (繰り返したいコード)\n",
    "    \n",
    "```\n",
    "for文を開始するため、この三つの部分が重要で、それぞれ役割があります。\n",
    "1. ```i``` は変数です。毎回list1からの要素を一つ一つ読み取りをする時、その要素を変数に一時的に代入されます。**代入された時、その要素は扱える。**\n",
    "2. ```list1``` は条件です。条件がなければこのfor文は何を従えばコードがわからないから、必ず書かないといけない。\n",
    "3. ```(繰り返したいコード)``` は書いた通り、そのままの意味です。\n",
    "\n",
    "それで、while文の仕組みがちょっと違いがあります。\n",
    "\n",
    "**ポイント：for文とwhile文の中に気づいてもらいたい違いは条件式です。**\n",
    "<br>**for文に使われている条件式は要素のコレクションです（例えば、listやrange）。一方、while文に使われている条件式はBool論理です。毎回繰り返しをする時、条件のTrueかFalseを確認されています。**\n",
    "\n",
    "```Python\n",
    "i = 0\n",
    "while (条件、例：i > 5):\n",
    "    （繰り返したいコード）\n",
    "    i += 1 #（または、 i = i + 1)\n",
    "```\n",
    "\n",
    "while文を部分的に見てみましょう：\n",
    "1. ```i = 0```1行目で i は 0 に初期化される必要があります。\n",
    "2. ```i += 1 #（または、 i = i + 1)```の役割は、毎回繰り替えさらる時、```i```の値は１足します。繰り返したいコードの下に書いた意味もあります。順番は非常に重要です。毎ラウンド値1を追加しないと、ループは無限大になります。次のパートで例を示します。\n",
    "3. 条件によって、```i```の値が超えているかどうか、毎繰り返し確かめている。レッスン５に紹介された**「比較演算子」**を想像的に条件式として利用できます。例えば、```while i < 5:```だったら、「```i```の値は５より小さい限り、繰り返しが行う」という意味を持っています。"
   ]
  },
  {
   "cell_type": "markdown",
   "metadata": {},
   "source": [
    "## 11.1 while文\n",
    "\n",
    "while文の最も単純な書き方や使い方を紹介します。\n",
    "\n",
    "ポイント：for文はリストで制御できるけど、while文はできない。リストの要素は数値以外入れられるため、for文は数値以外で制御できる。けどwhile文は数値でしか制御できない。\n",
    "\n",
    "場合によって、どちらか一方がより有用である場合もあります。\n"
   ]
  },
  {
   "cell_type": "code",
   "execution_count": 35,
   "metadata": {},
   "outputs": [
    {
     "name": "stdout",
     "output_type": "stream",
     "text": [
      "0\n",
      "1\n",
      "2\n",
      "3\n",
      "4\n"
     ]
    }
   ],
   "source": [
    "i = 0\n",
    "while i < 5:\n",
    "    print(i)\n",
    "    i += 1 # i に1を足す"
   ]
  },
  {
   "cell_type": "markdown",
   "metadata": {},
   "source": [
    "次の違いは最後の行の書き方が、同じ結果を得られます。"
   ]
  },
  {
   "cell_type": "code",
   "execution_count": 29,
   "metadata": {},
   "outputs": [
    {
     "name": "stdout",
     "output_type": "stream",
     "text": [
      "1\n",
      "2\n",
      "3\n",
      "4\n",
      "5\n"
     ]
    }
   ],
   "source": [
    "i = 0\n",
    "while i < 5:\n",
    "    print(i)\n",
    "    i = i + 1  # i に1を足す"
   ]
  },
  {
   "cell_type": "markdown",
   "metadata": {},
   "source": [
    "### 練習をしましょう！\n",
    "\n",
    "課題：\n",
    "1. 下に表示された結果と同じ、自分のコードで実行してから同じように結果を得てください。\n",
    "\n",
    "```Python\n",
    "0\n",
    "1\n",
    "2\n",
    "3\n",
    "4\n",
    "5\n",
    "6\n",
    "7\n",
    "8\n",
    "9\n",
    "```\n",
    "\n",
    "2. 次も同じ：\n",
    "\n",
    "```Python\n",
    "10\n",
    "9\n",
    "8\n",
    "7\n",
    "6\n",
    "5\n",
    "4\n",
    "3\n",
    "2\n",
    "1```"
   ]
  },
  {
   "cell_type": "code",
   "execution_count": null,
   "metadata": {},
   "outputs": [],
   "source": [
    "# この下からコードを始めてください。\n"
   ]
  },
  {
   "cell_type": "markdown",
   "metadata": {},
   "source": [
    "## 11.2 break文で while ループから抜ける\n",
    "\n",
    "```while```ブロックの中で ```break``` と書くそこで ```while``` ループが終了します。\n",
    "\n",
    "英語では、```break``` は 「壊す」 という意味です。その意味でbreak文の役割を理解したらよりやすく思えられます。"
   ]
  },
  {
   "cell_type": "code",
   "execution_count": 26,
   "metadata": {},
   "outputs": [
    {
     "name": "stdout",
     "output_type": "stream",
     "text": [
      "0\n",
      "1\n",
      "2\n",
      "3\n"
     ]
    }
   ],
   "source": [
    "i = 0\n",
    "while i < 10:\n",
    "    print(i)\n",
    "    i += 1\n",
    "    \n",
    "    if i == 4:\n",
    "        break  # ループを終了"
   ]
  },
  {
   "cell_type": "code",
   "execution_count": 28,
   "metadata": {},
   "outputs": [
    {
     "name": "stdout",
     "output_type": "stream",
     "text": [
      "10\n",
      "9\n",
      "8\n",
      "7\n",
      "6\n",
      "5\n"
     ]
    }
   ],
   "source": [
    "i = 10\n",
    "while i > 1:\n",
    "    print(i)\n",
    "    i = i - 1\n",
    "    \n",
    "    if i == 4:\n",
    "        break  # ループを終了"
   ]
  },
  {
   "cell_type": "markdown",
   "metadata": {},
   "source": [
    "### このbreak文を使ってみよう！\n",
    "\n",
    "課題：前の課題で作ってくれたコードをコピペして、両方のコードを訂正せず、break文を利用して追加して、５までprintしてください。"
   ]
  },
  {
   "cell_type": "code",
   "execution_count": 30,
   "metadata": {},
   "outputs": [],
   "source": [
    "# コードをここから始めてください\n"
   ]
  },
  {
   "cell_type": "markdown",
   "metadata": {},
   "source": [
    "## 11.3 while文でlistの要素をprintしましょう！\n",
    "\n"
   ]
  },
  {
   "cell_type": "markdown",
   "metadata": {},
   "source": [
    "次にはlistの要素のprint仕方の復習です。"
   ]
  },
  {
   "cell_type": "code",
   "execution_count": 32,
   "metadata": {},
   "outputs": [
    {
     "name": "stdout",
     "output_type": "stream",
     "text": [
      "10\n",
      "9\n",
      "8\n"
     ]
    }
   ],
   "source": [
    "list_ = [10, 9, 8, 7]\n",
    "\n",
    "print(list_[0])\n",
    "print(list_[1])\n",
    "print(list_[2])"
   ]
  },
  {
   "cell_type": "markdown",
   "metadata": {},
   "source": [
    "### 挑戦してみよう。\n",
    "\n",
    "課題：下に用意されたlistを利用して、while文で一つ一つの要素をprintしてください。"
   ]
  },
  {
   "cell_type": "code",
   "execution_count": 33,
   "metadata": {},
   "outputs": [],
   "source": [
    "list1 = [\"this\", \"is\", \"a\", \"test\", \"trial\", \"run\", \"do\", \"your\", \"best!\"]\n",
    "\n",
    "# この下から続いてください\n",
    "x = 0\n"
   ]
  },
  {
   "cell_type": "markdown",
   "metadata": {},
   "source": [
    "## 最後の課題\n",
    "\n",
    "1. 50から100までwhile文でprintしてください。\n",
    "2. 7個stringを持つlistを作って、それぞれの要素をprintできるwhile文を書いてください。けど、途中で５個目でbreakでループを抜ける。"
   ]
  },
  {
   "cell_type": "code",
   "execution_count": null,
   "metadata": {},
   "outputs": [],
   "source": []
  }
 ],
 "metadata": {
  "kernelspec": {
   "display_name": "Python 3",
   "language": "python",
   "name": "python3"
  }
 },
 "nbformat": 4,
 "nbformat_minor": 2
}
