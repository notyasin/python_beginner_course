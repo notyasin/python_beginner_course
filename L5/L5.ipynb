{
 "cells": [
  {
   "cell_type": "markdown",
   "metadata": {},
   "source": [
    "# レッスン５：Pythonのデータ型：PythonのBoolean　と　Python の制御文：if文（紹介）\n",
    "## Boolean (ブーリアン)＝ Bool (ブール)（略語）\n",
    "\n",
    "PythonでBooleanはよく使われています。何かの決断を決定するためBooleanはよく利用されています。どのようにBooleanはそれを達成するか今から習いましょう。\n",
    "\n",
    "Python では True＝真（トゥルー） または False＝偽（フォールス) を表すための型として、 Boolean 値が用意されています。\n",
    "<br>簡潔に意味を説明すれば、Trueは「正しい」、Falseは「間違っている」。\n",
    "\n",
    "\n",
    "## 5.1 基本使い方\n",
    "第一の例に、示すように、TrueとFalseは値のように使う場合があります。変数に代入したりできます。もう一つ少し異なっている場合もこの後紹介します。先生にとって、第二の場合の方が重要と思います。\n",
    "\n",
    "この例で、以前学んだtype機能を利用し、変数aの正体を見分けできます。"
   ]
  },
  {
   "cell_type": "code",
   "execution_count": 23,
   "metadata": {},
   "outputs": [
    {
     "name": "stdout",
     "output_type": "stream",
     "text": [
      "<class 'bool'>\n",
      "<class 'bool'>\n",
      "<class 'float'>\n"
     ]
    }
   ],
   "source": [
    "a = True\n",
    "print(type(a))\n",
    "\n",
    "b = False\n",
    "print(type(b))\n",
    "\n",
    "b = 78.6\n",
    "print(type(b))"
   ]
  },
  {
   "cell_type": "markdown",
   "metadata": {},
   "source": [
    "type機能で確かめられて、両方Bool型です。\n",
    "\n",
    "第二の例に、比較演算子で利用し、TrueかFalse式を得られます。この使い方が先生の研究でおそらく最も使われているタイプです。"
   ]
  },
  {
   "cell_type": "code",
   "execution_count": 11,
   "metadata": {},
   "outputs": [
    {
     "name": "stdout",
     "output_type": "stream",
     "text": [
      "True\n",
      "False\n",
      "False\n",
      "True\n"
     ]
    }
   ],
   "source": [
    "print(5 > 4)\n",
    "print(5 < 4)\n",
    "print(5 == 4)\n",
    "print(5 == 5)"
   ]
  },
  {
   "cell_type": "markdown",
   "metadata": {},
   "source": [
    "## 5.2 Boolean Logic = ブール論理、の比較演算子を習いましょう。\n",
    "\n",
    "Pythonで基本的にはいくつかの種類の比較演算子があります。下の表に示します。\n",
    "\n",
    "|比較演算子|意味|\n",
    "|:------|:---|\n",
    "|x == y      | x と y が等しい|\n",
    "|x != y      | x と y が等しくない|\n",
    "|x > y       | x は y よりも大きい|\n",
    "|x < y       | x は y よりも小さい|\n",
    "|x >= y      | x は y と等しいか大きい|\n",
    "|x <= y      | x は y と等しいか小さい|\n",
    "|x in y      | x という要素 が y に存在する|\n",
    "|x not in y  | x という要素 が y に存在しない|"
   ]
  },
  {
   "cell_type": "markdown",
   "metadata": {},
   "source": [
    "Pythonでの等号の打ち方はこのようです:「＝＝」、二回等号を入れないといけないです。\n",
    "\n",
    "今まで変数を代入するとき、一回等号を入力したんですが、それは実は正確的に「等しい」という意味をしません。レッスン１に紹介したんですが、一つの等号はデータを変数を入れるみたいな意味を持っています。\n",
    "\n",
    "**さて、上の表を参考して下のコードの結果を予想しましょう。TrueかFalse当ててみましょう。**"
   ]
  },
  {
   "cell_type": "code",
   "execution_count": 36,
   "metadata": {},
   "outputs": [
    {
     "name": "stdout",
     "output_type": "stream",
     "text": [
      "True\n",
      "False\n",
      "False\n",
      "True\n",
      "True\n",
      "False\n",
      "True\n",
      "True\n",
      "False\n"
     ]
    }
   ],
   "source": [
    "print(\"string1\" == \"string1\")\n",
    "print(\"string33\" == \"string54\")\n",
    "# print(\"mojiretu\" > 89)\n",
    "print(98 < 96)\n",
    "print(4 > 3)\n",
    "print(5 >= 4)\n",
    "print(5 >= 6)\n",
    "\n",
    "list1 = [1, 2, 3]\n",
    "list2 = [3, 4, 5]\n",
    "print(list1 != list2)\n",
    "\n",
    "print(3 in list1)\n",
    "print(3 not in list1)\n",
    "\n",
    "# 君の推測をこの行で書いてください：True, False, False, True, True, False, True, True, False\n",
    "# 番号記号「＃」を先頭で入力すれば、コードを処理するとき、無視されています。そのため、このようにメモを書いたりできます。\n",
    "# print(\"test\")"
   ]
  },
  {
   "cell_type": "markdown",
   "metadata": {},
   "source": [
    "**メモ：あらゆるデータ型は比較演算子でBool論理を応用できます**\n",
    "\n",
    "**小さい課題：この授業で紹介された全ての比較演算子を利用して、値やデータを比較してください。なんでも良い。**"
   ]
  },
  {
   "cell_type": "code",
   "execution_count": 30,
   "metadata": {},
   "outputs": [
    {
     "name": "stdout",
     "output_type": "stream",
     "text": [
      "False\n",
      "True\n"
     ]
    }
   ],
   "source": [
    "# この下から始めてください\n",
    "print(56.7 == 45.8)\n",
    "var1 = \"string4\"\n",
    "var8 = \"string56\"\n",
    "\n",
    "print(var1 != var8)\n"
   ]
  },
  {
   "cell_type": "markdown",
   "metadata": {},
   "source": [
    "## 5.3 if-else文\n",
    "\n",
    "ifとは、直接訳すれば、「もし」という意味を持っていて、elseは「でなければ」。Scratchでの「もし」、「でなければ」と論理的に全く同じです。\n",
    "\n",
    "```Python\n",
    "if 条件:\n",
    "    コード\n",
    "else:\n",
    "    コード\n",
    "```\n",
    "\n",
    "その**条件**を満たされていたら、ifの下のコードを処理します。でなければその続きのelseのコードを処理します。\n",
    "\n",
    "そこでBool論理を利用して、条件がTrueになったら、その条件を満たせるようになりました。一方、Falseになったら、条件を満たせない状態になります。次の例を見てみましょう："
   ]
  },
  {
   "cell_type": "code",
   "execution_count": 15,
   "metadata": {},
   "outputs": [
    {
     "name": "stdout",
     "output_type": "stream",
     "text": [
      "this is correct = これは正しい\n"
     ]
    }
   ],
   "source": [
    "if 98 > 1:\n",
    "    print(\"this is correct = これは正しい\")\n",
    "else:\n",
    "    print(\"it is not correct = 正しくありません\")"
   ]
  },
  {
   "cell_type": "markdown",
   "metadata": {},
   "source": [
    "**小さい課題：少し練習してみましょう。if-else文を利用してコードを書いてください**\n",
    "1. 一つ目のif-文は条件の部分で大なり（＞）を使ってください。\n",
    "2. 二つ目のif-文は条件の部分で文字列を比較してください。"
   ]
  },
  {
   "cell_type": "code",
   "execution_count": 11,
   "metadata": {},
   "outputs": [],
   "source": [
    "# 一つ目のコード、この下から始めてください\n"
   ]
  },
  {
   "cell_type": "code",
   "execution_count": 13,
   "metadata": {},
   "outputs": [],
   "source": [
    "# 二つ目のコード、この下から始めてください\n"
   ]
  },
  {
   "cell_type": "markdown",
   "metadata": {},
   "source": [
    "## 5.4 elif文\n",
    "\n",
    "さらに、もう一つif-else文の使い方を紹介しましょう。\n",
    "\n",
    "```Python\n",
    "if 条件第一 :\n",
    "    コード\n",
    "elif 条件第二:\n",
    "    コード\n",
    "else:\n",
    "    コード\n",
    "```\n",
    "\n",
    "ifとelseの間にもう一つのぶん、elifという文が入っています。elif文は、一つ以上の条件を考慮したい際使われています。覚えやすくするため、「else＋if」をくっ付いたら、「elif」となります。それと、意味もこの考え方で推測できます。elseって「でなければ」でしょう、ifって「もし」で、elifだったら、「前の条件でなければ、もし他の条件のBool論理を確認すれば」みたいな意味になります。\n",
    "\n",
    "次の例を見てみましょう："
   ]
  },
  {
   "cell_type": "code",
   "execution_count": 19,
   "metadata": {},
   "outputs": [],
   "source": [
    "var = 12\n",
    "\n",
    "if var < 0:\n",
    "    print(\"変数は０より小さい\")\n",
    "elif var > 0:\n",
    "    print(\"変数は０より大きい\")\n",
    "else:\n",
    "    continue"
   ]
  },
  {
   "cell_type": "markdown",
   "metadata": {},
   "source": [
    "もう一つの例を見せましょう："
   ]
  },
  {
   "cell_type": "code",
   "execution_count": 21,
   "metadata": {},
   "outputs": [
    {
     "name": "stdout",
     "output_type": "stream",
     "text": [
      "10 はlist3内に存在します\n"
     ]
    }
   ],
   "source": [
    "list3 = [1, 2, 3, 4, 5, 6, 7, 8, 9, 10]\n",
    "\n",
    "if 11 in list3:\n",
    "    print(\"11 はlist3内に存在します\")\n",
    "elif 56 in list3:\n",
    "    print(\"56 はlist3内に存在します\")\n",
    "elif 44 in list3:\n",
    "    print(\"44 はlist3内に存在します\")\n",
    "elif 10 in list3:\n",
    "    print(\"10 はlist3内に存在します\")"
   ]
  },
  {
   "cell_type": "markdown",
   "metadata": {},
   "source": [
    "**重要なポイント：例えば最初に条件を満たしたら、その次の条件を全て無視されています。**\n",
    "\n",
    "どんな状況で```if-elif-else```文は利用できますか？\n",
    "\n",
    "何かを認識するための機能としてとても重要な機能です。**決断を決定するための基本な機能です。**"
   ]
  },
  {
   "cell_type": "markdown",
   "metadata": {},
   "source": [
    "5.4の最初の例の再びみてみましょう。そこに書いたコードは変数の値は正確的に見分けできません。ただ０より小さいか大きいの見分けでしたね。\n",
    "\n",
    "そこで、if文にもっと特定な要件を紹介しましょう。一つの方法は、if文の中に、もう一回if文を紹介します。例を見てみよう。\n",
    "<br>このようなif文は**ネストしたif文**と言います。ネストは英語からの借用語で、nestから基づきました。直接役すれば、「組み入れ」と意味します。"
   ]
  },
  {
   "cell_type": "code",
   "execution_count": 6,
   "metadata": {},
   "outputs": [
    {
     "name": "stdout",
     "output_type": "stream",
     "text": [
      "変数は0より大きい\n",
      "変数は10より大きい\n"
     ]
    }
   ],
   "source": [
    "var = 12\n",
    "\n",
    "if var < 0:\n",
    "    print(\"変数は0より小さい\")\n",
    "elif var > 0:\n",
    "    print(\"変数は0より大きい\")\n",
    "    if var > 50:\n",
    "        print(\"変数は50より大きい\")\n",
    "    elif var > 40:\n",
    "        print(\"変数は40より大きい\")\n",
    "    elif var > 30:\n",
    "        print(\"変数は30より大きい\")\n",
    "    elif var > 20:\n",
    "        print(\"変数は20より大きい\")\n",
    "    elif var > 10:\n",
    "        print(\"変数は10より大きい\")"
   ]
  },
  {
   "cell_type": "markdown",
   "metadata": {},
   "source": [
    "## 最後の課題\n",
    "\n",
    "1. 一つの比較演算子を利用してif-else文を作ってください。\n",
    "2. if-elif-else文で第二条件まで考慮してください。\n",
    "3. if-elif-else文で二つ以上の条件を紹介して、その条件であるlistの中身に何の要素が存在するか確かめてください。\n",
    "4. 時間あれば、ネストされたif文を作りましょう。"
   ]
  },
  {
   "cell_type": "code",
   "execution_count": null,
   "metadata": {},
   "outputs": [],
   "source": []
  }
 ],
 "metadata": {
  "kernelspec": {
   "display_name": "Python 3",
   "language": "python",
   "name": "python3"
  },
  "language_info": {
   "codemirror_mode": {
    "name": "ipython",
    "version": 3
   },
   "file_extension": ".py",
   "mimetype": "text/x-python",
   "name": "python",
   "nbconvert_exporter": "python",
   "pygments_lexer": "ipython3",
   "version": "3.7.4"
  }
 },
 "nbformat": 4,
 "nbformat_minor": 4
}
