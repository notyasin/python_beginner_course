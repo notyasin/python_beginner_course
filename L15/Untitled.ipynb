{
 "cells": [
  {
   "cell_type": "code",
   "execution_count": 1,
   "metadata": {},
   "outputs": [
    {
     "ename": "ModuleNotFoundError",
     "evalue": "No module named 'pgzrun'",
     "output_type": "error",
     "traceback": [
      "\u001b[0;31m---------------------------------------------------------------------------\u001b[0m",
      "\u001b[0;31mModuleNotFoundError\u001b[0m                       Traceback (most recent call last)",
      "\u001b[0;32m<ipython-input-1-1dc6ca1478e2>\u001b[0m in \u001b[0;36m<module>\u001b[0;34m\u001b[0m\n\u001b[0;32m----> 1\u001b[0;31m \u001b[0;32mimport\u001b[0m \u001b[0mpgzrun\u001b[0m\u001b[0;34m\u001b[0m\u001b[0;34m\u001b[0m\u001b[0m\n\u001b[0m\u001b[1;32m      2\u001b[0m \u001b[0;32mfrom\u001b[0m \u001b[0mrandom\u001b[0m \u001b[0;32mimport\u001b[0m \u001b[0mrandint\u001b[0m\u001b[0;34m\u001b[0m\u001b[0;34m\u001b[0m\u001b[0m\n\u001b[1;32m      3\u001b[0m \u001b[0;34m\u001b[0m\u001b[0m\n\u001b[1;32m      4\u001b[0m \u001b[0mwidth\u001b[0m \u001b[0;34m=\u001b[0m \u001b[0;36m400\u001b[0m\u001b[0;34m\u001b[0m\u001b[0;34m\u001b[0m\u001b[0m\n\u001b[1;32m      5\u001b[0m \u001b[0mheight\u001b[0m \u001b[0;34m=\u001b[0m \u001b[0;36m400\u001b[0m\u001b[0;34m\u001b[0m\u001b[0;34m\u001b[0m\u001b[0m\n",
      "\u001b[0;31mModuleNotFoundError\u001b[0m: No module named 'pgzrun'"
     ]
    }
   ],
   "source": [
    "import pgzrun\n",
    "from random import randint\n",
    "\n",
    "width = 400\n",
    "height = 400\n",
    "score = 0\n",
    "game_over = False\n",
    "\n",
    "\n",
    "fox = Actor(\"fox\")\n",
    "fox.pos = 100, 100 # position = pos = 位置\n",
    "coin = Actor(\"coin\")\n",
    "coin.pos = 400, 200\n",
    "\n",
    "\n",
    "def draw():\n",
    "    screen.fill(\"black\")\n",
    "    fox.draw()\n",
    "    coin.draw()\n",
    "    screen.draw.text(\"Score: \" + str(score), topleft=(10, 10))\n",
    "\n",
    "    if game_over:\n",
    "        screen.fill(\"pink\")\n",
    "        screen.draw.text(\"Final score: \" + str(score), topleft=(10, 10), fontsize=60)\n",
    "\n",
    "\n",
    "def place_coin():\n",
    "    coin.x = randint(20, (width - 20))\n",
    "    coin.y = randint(20, (height - 20))\n",
    "\n",
    "\n",
    "def time_up():\n",
    "    global game_over\n",
    "    game_over = True\n",
    "\n",
    "\n",
    "clock.schedule(time_up, 30.0)\n",
    "# randomize the initial coin location\n",
    "place_coin()\n",
    "\n",
    "\n",
    "def update():\n",
    "    global score\n",
    "\n",
    "    if keyboard.left:\n",
    "        fox.x = fox.x - 4\n",
    "    elif keyboard.right:\n",
    "        fox.x = fox.x + 4\n",
    "    elif keyboard.up:\n",
    "        fox.y = fox.y - 4\n",
    "    elif keyboard.down:\n",
    "        fox.y = fox.y + 4\n",
    "\n",
    "    coin_collected = fox.colliderect(coin)\n",
    "    if coin_collected:\n",
    "        score = score + 10\n",
    "        place_coin()\n",
    "\n",
    "\n",
    "\n",
    "pgzrun.go()\n"
   ]
  },
  {
   "cell_type": "code",
   "execution_count": null,
   "metadata": {},
   "outputs": [],
   "source": []
  }
 ],
 "metadata": {
  "kernelspec": {
   "display_name": "Python 3",
   "language": "python",
   "name": "python3"
  },
  "language_info": {
   "codemirror_mode": {
    "name": "ipython",
    "version": 3
   },
   "file_extension": ".py",
   "mimetype": "text/x-python",
   "name": "python",
   "nbconvert_exporter": "python",
   "pygments_lexer": "ipython3",
   "version": "3.7.4"
  }
 },
 "nbformat": 4,
 "nbformat_minor": 2
}
