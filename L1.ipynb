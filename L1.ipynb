{
 "cells": [
  {
   "cell_type": "markdown",
   "metadata": {
    "id": "qKNec6w08WfW"
   },
   "source": [
    "# Part 1 - Python(パイソン)プログラミングの基本\n",
    "\n",
    "## 1.1 標準出力で盤面を作る\n",
    "\n",
    "Pythonで出力（output）するには、次のような「print」という記述に続けて「出力したい内容」にカッコで囲んで指定します。\n",
    "<br> 「print」という言葉は日本語で「印刷」を意味します。\n",
    "\n",
    "このJupyterというプログラムでは、出力した蘭にコードを動かすためには「Shift」＋「Enter」ボタンを同時に押さないといけないです。"
   ]
  },
  {
   "cell_type": "markdown",
   "metadata": {
    "id": "0OFhGmEQ8Wfa"
   },
   "source": [
    "次のように例をあげます：\n",
    "```Python\n",
    "print(出力したい内容)\n",
    "```"
   ]
  },
  {
   "cell_type": "markdown",
   "metadata": {
    "id": "JZVkxNPE8Wfb"
   },
   "source": [
    "例えば、◯╳ゲームで「◯」を出力するには、次のように書きます。\n",
    ">**重要点**：文字を出力したい場合、その文字は「”」か「’」で囲みます。両方使えます。"
   ]
  },
  {
   "cell_type": "code",
   "execution_count": 1,
   "metadata": {
    "id": "EXAeU6el8Wfc"
   },
   "outputs": [
    {
     "name": "stdout",
     "output_type": "stream",
     "text": [
      "◯\n"
     ]
    }
   ],
   "source": [
    "print(\"◯\")"
   ]
  },
  {
   "cell_type": "markdown",
   "metadata": {
    "id": "_6qGVoRc8Wfd"
   },
   "source": [
    "「’」か「”」を囲まらたままもっと文字を入れたら、このようにかけます。"
   ]
  },
  {
   "cell_type": "code",
   "execution_count": null,
   "metadata": {
    "id": "TQ30NUXL8Wfd"
   },
   "outputs": [],
   "source": [
    "print('◯×◯')\n",
    "print(\"◯×◯\")"
   ]
  },
  {
   "cell_type": "code",
   "execution_count": null,
   "metadata": {
    "id": "meATwCAH8Wfe"
   },
   "outputs": [],
   "source": [
    "print(\"◯×◯\")\n",
    "print(\"×◯◯\")\n",
    "print(\"××◯\")"
   ]
  },
  {
   "cell_type": "markdown",
   "metadata": {
    "id": "4tRGhST98Wff"
   },
   "source": [
    "以上の出力ができるようになるまで確認ください。\n",
    "\n",
    "この時点まで、学んだコマンド、Pythonで「print」は**標準出力**というものです。\n",
    "\n",
    "- **課題：**自分の名前と好きな食べ物を「print」コマンドで出力しましょう。２行で書いてください。"
   ]
  },
  {
   "cell_type": "code",
   "execution_count": null,
   "metadata": {
    "id": "dEgpVRxS8Wfg"
   },
   "outputs": [],
   "source": [
    "# 例：\n",
    "print(\"your name　＝（君の名前）\")\n",
    "print(\"favorite food　＝（一番好きな食べ物）\")"
   ]
  },
  {
   "cell_type": "code",
   "execution_count": null,
   "metadata": {
    "id": "XNb5GQj88Wfh"
   },
   "outputs": [],
   "source": [
    "# ここから君のコードを書いてください\n"
   ]
  },
  {
   "cell_type": "markdown",
   "metadata": {
    "id": "YblxgXdd8Wfi"
   },
   "source": [
    "## 1.2 変数 = Variable（ヴァリアブル）とは？\n",
    "\n",
    "変数とは、みんなが**Scratch**で学んだと同じ、一時的に**データ**を保管するため利用できるものです。\n",
    "<br>計算結果や単語を代入したりできます。"
   ]
  },
  {
   "cell_type": "markdown",
   "metadata": {
    "id": "o6ZWkWHx8Wfi"
   },
   "source": [
    "<img src=\"img/variable1.jpg\" alt=\"Drawing\" style=\"width: 400px;\"/>"
   ]
  },
  {
   "cell_type": "markdown",
   "metadata": {
    "id": "du569Yhd8Wfi"
   },
   "source": [
    "**次のように例をあげます：**\n",
    "```Python\n",
    "variable = 30\n",
    "print(variable)\n",
    "```\n",
    "上に代入された<code>variable</code>は変数です。\n",
    "\n",
    "結果：\n",
    "```Python\n",
    "30\n",
    "```\n",
    "次の欄にvariableを使って値をprintしましょう。"
   ]
  },
  {
   "cell_type": "code",
   "execution_count": null,
   "metadata": {
    "id": "ZiAkFn1i8Wfj"
   },
   "outputs": [],
   "source": [
    "#ここから初めてください。\n"
   ]
  },
  {
   "cell_type": "markdown",
   "metadata": {
    "id": "9V8SCFT-8Wfj"
   },
   "source": [
    "**variableとは数以外も代入できます。例えば：**\n",
    "1. 文字列、例えば言葉や文や句など（Pythonでそれは \"string\" と呼ぶ）\n",
    "2. リスト（今後習う）\n",
    "3. 計算\n",
    "4. 数字\n",
    "5. など\n",
    "\n",
    "あらゆる使い方があるから、プログラミングでvariableはとても役に立てます。"
   ]
  },
  {
   "cell_type": "code",
   "execution_count": null,
   "metadata": {
    "id": "FNcqRX_Z8Wfk"
   },
   "outputs": [],
   "source": [
    "variable = \"I am Yasin\"\n",
    "print(variable)"
   ]
  },
  {
   "cell_type": "markdown",
   "metadata": {
    "id": "Dr5ptT4s8Wfk"
   },
   "source": [
    "上に代入された<code>\"I am Yasin\"</code>はstringというものです。\n",
    "<br>次の欄に自分のstringを決めてprintしてください。"
   ]
  },
  {
   "cell_type": "code",
   "execution_count": null,
   "metadata": {
    "id": "gsMl2TIV8Wfk"
   },
   "outputs": [],
   "source": [
    "#ここからコードを書いてください\n"
   ]
  },
  {
   "cell_type": "markdown",
   "metadata": {
    "id": "-L8FzXUJ8Wfl"
   },
   "source": [
    "**では、Pythonで変数名を付けるルールがあります。簡潔に言えば、**\n",
    "1. 先頭（一文字目）は必ずアルファベットでなければいけないです。\n",
    "2. 先頭にも数字は使えない。\n",
    "3. アンダースコアもOKです。\n",
    "\n",
    "正しい変数名の例：trash, number_one, ALPHA, Beta, Unagi_2\n",
    "<br>いけない変数名の例：9trash, 56_numbers, など"
   ]
  },
  {
   "cell_type": "markdown",
   "metadata": {
    "id": "I3u814BE8Wfl"
   },
   "source": [
    "## 1.3 Pythonで計算しよう\n",
    "\n",
    "Pythonで計算できるようになるためのコードは以下の表に示しています。"
   ]
  },
  {
   "cell_type": "markdown",
   "metadata": {
    "id": "Bx2PTGHi8Wfl"
   },
   "source": [
    "|計算内容|Pythonのソースコード|計算結果|\n",
    "|:-----|:-------:|:------:| \n",
    "|足し算|3 + 5|8| \n",
    "|引き算|5 - 2|3|\n",
    "|掛け算|4 * 5|20|\n",
    "|割り算（小数）|13 / 2|6.5|\n",
    "|割り算（商）|13 // 2|6|\n",
    "|あまり|13 % 2|1|\n",
    "|累乗|2 ** 3|8|\n",
    "\n",
    "- **課題：**　以下に書いてある数式はPythonコードを書いて解決してください。結果は全て「print」してください。\n",
    "\n",
    "    1. $(3 + 2) \\div 3 $\n",
    "    2. $ 5 \\times 5 + 4$\n",
    "    3. $8 \\times 98 - 54$\n",
    "    4. $(19 + 6) \\div 4$ （ありが欲しい） \n",
    "    5. $4*(5-4)$\n",
    "\n",
    "例：$(4+5)\\times8$"
   ]
  },
  {
   "cell_type": "code",
   "execution_count": null,
   "metadata": {
    "id": "M2Y8ykrW8Wfm",
    "outputId": "79304c2e-44d8-4e2c-bcab-3fa5e57a3d8a"
   },
   "outputs": [
    {
     "name": "stdout",
     "output_type": "stream",
     "text": [
      "72\n"
     ]
    }
   ],
   "source": [
    "# 例：\n",
    "variable = (4+5)*8\n",
    "print(variable)"
   ]
  },
  {
   "cell_type": "code",
   "execution_count": null,
   "metadata": {
    "id": "IzfkPmnC8Wfm"
   },
   "outputs": [],
   "source": [
    "# ここから君のコードを書いてください\n"
   ]
  },
  {
   "cell_type": "markdown",
   "metadata": {
    "id": "VPH5LX_d8Wfm"
   },
   "source": [
    "## 1.4最後の課題：BMI値計算プログラム\n",
    "\n",
    "BMI値とは、人の肥満度を示す値です。今回の課題はそのBMI値を計算します。\n",
    "\n",
    "この計算を満たすためには、必要とされている値はその対象者の身長（h、メートル）と体重（w、キログラム）です。\n",
    "<br>この二つの値を使ってBMI値をゲットできます。以下の**数式**で従って、Pythonコードで自分のBMI値を計算してください。\n",
    "\n",
    "$ BMI値　＝　w\\div(h\\times h) $\n",
    "\n",
    "最後に、BMI値をprintしてください。\n",
    "<br>今日全て学んだ機構を考慮して使って問題を解けてください。"
   ]
  },
  {
   "cell_type": "code",
   "execution_count": null,
   "metadata": {
    "id": "_VJ48Qby8Wfn"
   },
   "outputs": [],
   "source": [
    "# ここから君のコードを書いてください\n"
   ]
  },
  {
   "cell_type": "markdown",
   "metadata": {
    "id": "GPhydTB78Wfn"
   },
   "source": [
    "## 1.5 List = リスト\n",
    "\n",
    "リストとはScratchのリスト機能と同じです。複数なデータを順番に保管できる機能です。\n",
    "\n",
    "例、stringと数字を保管する：\n",
    "```Python\n",
    "list1 = [\"十一\", \"先生\", \"モニター\"]\n",
    "list2 = [34, 45, 399]\n",
    "list3 = [12.3, 45.333, 4.557]\n",
    "```\n",
    "Listがprintできます。次の例に表します。"
   ]
  },
  {
   "cell_type": "code",
   "execution_count": null,
   "metadata": {
    "id": "dUHatNSy8Wfn"
   },
   "outputs": [],
   "source": [
    "#例：\n",
    "ore_no_list = [\"俺\", \"の\", \"リスト\"]\n",
    "print(ore_no_list)"
   ]
  },
  {
   "cell_type": "markdown",
   "metadata": {
    "id": "QJ7rOt4I8Wfn"
   },
   "source": [
    "**課題：**\n",
    "自分のリストを作って、printしてください。"
   ]
  },
  {
   "cell_type": "code",
   "execution_count": null,
   "metadata": {
    "id": "3SyeOJ2v8Wfn"
   },
   "outputs": [],
   "source": [
    "# ここから君のコードを書いてください\n",
    "\n"
   ]
  }
 ],
 "metadata": {
  "colab": {
   "collapsed_sections": [],
   "name": "Part1.ipynb",
   "provenance": []
  },
  "kernelspec": {
   "display_name": "Python 3",
   "language": "python",
   "name": "python3"
  },
  "language_info": {
   "codemirror_mode": {
    "name": "ipython",
    "version": 3
   },
   "file_extension": ".py",
   "mimetype": "text/x-python",
   "name": "python",
   "nbconvert_exporter": "python",
   "pygments_lexer": "ipython3",
   "version": "3.8.3"
  }
 },
 "nbformat": 4,
 "nbformat_minor": 1
}
