{
 "cells": [
  {
   "cell_type": "markdown",
   "metadata": {},
   "source": [
    "# レッスン９：Python の制御文　➡　for文 \n",
    "\n",
    "## 9.1 listでfor文の制御\n",
    "\n",
    "```for``` はあるコレクション内の要素一つ一つに対して、繰り返し処理を行うものです。\n",
    "\n",
    "早速 ```for``` によるループを見てみましょう。\n",
    "<br>次の例ではリスト ```L``` を作成しておき、それぞれの要素を取り出し、 それを ```x``` に代入し、出力しています。\n"
   ]
  },
  {
   "cell_type": "code",
   "execution_count": 1,
   "metadata": {},
   "outputs": [
    {
     "name": "stdout",
     "output_type": "stream",
     "text": [
      "Toyota\n",
      "Nissan\n",
      "Honda\n"
     ]
    }
   ],
   "source": [
    "list_ = ['Toyota', 'Nissan', 'Honda']  # リストを作成\n",
    "\n",
    "# for hensuu in list_:\n",
    "#     print(hensuu)\n",
    "    \n",
    "for x in ['Toyota', 'Nissan', 'Honda']:\n",
    "    print(x)"
   ]
  },
  {
   "cell_type": "markdown",
   "metadata": {},
   "source": [
    "実行した後結果は上に表示したとおりです。確かにリスト内の文字列が表示されています。\n",
    "\n",
    "リストの範囲を ```:``` を用いて指定し、指定した範囲内の要素に対してループを行うこともできます。 次の例では ```[1:]``` と指定していますから、インデックス ``` 0 ``` の (1個目の) 要素をスキップして、最後の要素までを処理しています。"
   ]
  },
  {
   "cell_type": "code",
   "execution_count": 42,
   "metadata": {},
   "outputs": [
    {
     "name": "stdout",
     "output_type": "stream",
     "text": [
      "[5, 6, 7]\n",
      "0\n",
      "1\n"
     ]
    }
   ],
   "source": [
    "# list_ = ['Toyota', 'Nissan', 'Honda']\n",
    "# print(list_[0:2])\n",
    "\n",
    "list1 = [0, 1, 2, 3, 4, 5, 6, 7]\n",
    "print(list1[5:8])\n",
    "\n",
    "for x in list1[0:2]:\n",
    "    print(x)"
   ]
  },
  {
   "cell_type": "markdown",
   "metadata": {},
   "source": [
    "**小さい課題** ：リストを作成し、全て入っている要素をforループで印刷すること。"
   ]
  },
  {
   "cell_type": "code",
   "execution_count": null,
   "metadata": {},
   "outputs": [],
   "source": [
    "# 君のコードをこの下から書いてください\n"
   ]
  },
  {
   "cell_type": "markdown",
   "metadata": {},
   "source": [
    "## 9.2 range関数でfor文の制御\n",
    "\n",
    "さて、ここまで見てきたように ```for``` を利用するには、あらかじめ特定のコレクションが必要です。 ```0, 1, 2, ...```  といった連番を用意したい場合はどうしたらよいでしょうか。\n",
    "\n",
    "そのために、便利な関数があります。```range``` です。 ```range``` 関数は条件で指定した値からリストを作成します。\n",
    "\n",
    "**ポイント： ```range``` の意味は「範囲」です。**\n",
    "\n",
    "次の例を見てください。"
   ]
  },
  {
   "cell_type": "code",
   "execution_count": 52,
   "metadata": {},
   "outputs": [
    {
     "name": "stdout",
     "output_type": "stream",
     "text": [
      "0 1 2 3 4 5 6 7 8 9\n",
      "5 6 7 8 9\n",
      "0 5 10 15 20 25 30 35 40 45 50 55 60 65 70 75 80 85 90 95\n",
      "<class 'range'>\n"
     ]
    }
   ],
   "source": [
    "print(*range(10))\n",
    "\n",
    "print(*range(5,10))\n",
    "# POINT: こちらに５から１０まで指示したんですが、実際結果にprintする際５から９までだけ。\n",
    "\n",
    "print(*range(0,100,5))\n",
    "\n",
    "print(type(range(10)))"
   ]
  },
  {
   "cell_type": "markdown",
   "metadata": {},
   "source": [
    "まず、range関数の使い方を慣れましょう。\n",
    "\n",
    "**小さい課題：** range関数で１００から２００まで偶数だけを印刷してください。"
   ]
  },
  {
   "cell_type": "code",
   "execution_count": 54,
   "metadata": {},
   "outputs": [
    {
     "name": "stdout",
     "output_type": "stream",
     "text": [
      "0 1 2 3 4 5 6 7 8 9\n"
     ]
    }
   ],
   "source": [
    "# 君のコードをこの下から書いてください\n",
    "print(*range(10))"
   ]
  },
  {
   "cell_type": "markdown",
   "metadata": {},
   "source": [
    "よって、```range``` 関数を利用して、次のようにできます。\n",
    "<br>実行結果は次のようになります。5回 print(i) が呼ばれて数字が表示されています。"
   ]
  },
  {
   "cell_type": "code",
   "execution_count": 56,
   "metadata": {},
   "outputs": [
    {
     "name": "stdout",
     "output_type": "stream",
     "text": [
      "0\n",
      "1\n",
      "2\n",
      "3\n",
      "4\n",
      "5\n",
      "6\n",
      "7\n",
      "8\n",
      "9\n"
     ]
    }
   ],
   "source": [
    "for i in range(10):\n",
    "    print(i)"
   ]
  },
  {
   "cell_type": "markdown",
   "metadata": {},
   "source": [
    "試しに、九九の掛け算の表を出力してみましょう。```for``` を入れ子にします（ネストしたfor文）。"
   ]
  },
  {
   "cell_type": "code",
   "execution_count": 67,
   "metadata": {},
   "outputs": [
    {
     "name": "stdout",
     "output_type": "stream",
     "text": [
      "1 2 3 4 5 6 7 8 9 10 \n",
      "2 4 6 8 10 12 14 16 18 20 \n",
      "3 6 9 12 15 18 21 24 27 30 \n",
      "4 8 12 16 20 24 28 32 36 40 \n",
      "5 10 15 20 25 30 35 40 45 50 \n",
      "6 12 18 24 30 36 42 48 54 60 \n",
      "7 14 21 28 35 42 49 56 63 70 \n",
      "8 16 24 32 40 48 56 64 72 80 \n",
      "9 18 27 36 45 54 63 72 81 90 \n",
      "10 20 30 40 50 60 70 80 90 100 \n"
     ]
    }
   ],
   "source": [
    "for i in range(1, 11):\n",
    "    for j in range(1, 11):\n",
    "        print(f\"{i * j}\", end=\" \")\n",
    "    print() # 改行"
   ]
  },
  {
   "cell_type": "code",
   "execution_count": 68,
   "metadata": {},
   "outputs": [],
   "source": [
    "# for i in range(1, 10):\n",
    "#     for j in range(1, 10):\n",
    "#         print(f\"{i} * {j} = \", i * j)"
   ]
  },
  {
   "cell_type": "markdown",
   "metadata": {},
   "source": [
    "上に書かれているコードの論理に理解できますか？まだ分からなら、また検討してみよう。\n",
    "\n",
    "次range関数を利用して小さい課題を解決してみよう。\n",
    "\n",
    "**小さい課題** : range関数でfor文を作ってください。０から３０まで繰り返して、三十回「This is Python」をprintしてください。"
   ]
  },
  {
   "cell_type": "code",
   "execution_count": 11,
   "metadata": {},
   "outputs": [],
   "source": [
    "# 君のコードをこの下から書いてください\n"
   ]
  },
  {
   "cell_type": "markdown",
   "metadata": {},
   "source": [
    "## 9.3 break 文で for ループから抜ける\n",
    "\n",
    "```for``` ループでは、指定したコレクションの要素全てについてループします。しかし、途中でループをやめて ```for``` ブロックから出ることもできます。 ```for``` ブロックを抜けるためには ```break``` と書きます。"
   ]
  },
  {
   "cell_type": "code",
   "execution_count": 12,
   "metadata": {},
   "outputs": [
    {
     "name": "stdout",
     "output_type": "stream",
     "text": [
      "0 1 2 "
     ]
    }
   ],
   "source": [
    "for i in range(0, 10):\n",
    "    print(i, end=\" \")\n",
    "    if i == 2: # i が 2 のとき\n",
    "        break # ループを抜ける"
   ]
  },
  {
   "cell_type": "markdown",
   "metadata": {},
   "source": [
    "この場合で、if文も利用できます。ここにif文の役割は、毎ループに```i```の値は２に等しいかどうかチェックされています。そうならばループから抜ける。"
   ]
  },
  {
   "cell_type": "markdown",
   "metadata": {},
   "source": [
    "**小さい課題：** for文の```i```が13回印刷できるコードを書いてください。が、7回目にループを停止してください。"
   ]
  },
  {
   "cell_type": "code",
   "execution_count": 13,
   "metadata": {},
   "outputs": [],
   "source": [
    "# 君のコードをこの下から書いてください\n"
   ]
  },
  {
   "cell_type": "markdown",
   "metadata": {},
   "source": [
    "## 最後の課題：\n",
    "1. 五個の要素を持っているリストを作って、それぞれの要素をfor文でprintしてください。\n",
    "2. このような結果までネストfor文で得てください\n",
    "```\n",
    "1 0 \n",
    "1 1\n",
    "1 2\n",
    "1 3\n",
    "2 0\n",
    "2 1\n",
    "2 2\n",
    "2 3\n",
    "3 0\n",
    "3 1\n",
    "3 2\n",
    "3 3```\n",
    "\n",
    "3. for文のiが100回印刷できるコードを書いてください。が、50回目にループを停止してください。"
   ]
  },
  {
   "cell_type": "code",
   "execution_count": 16,
   "metadata": {},
   "outputs": [],
   "source": [
    "# 君のコードをこの下から書いてください\n"
   ]
  }
 ],
 "metadata": {
  "kernelspec": {
   "display_name": "Python 3",
   "language": "python",
   "name": "python3"
  },
  "language_info": {
   "codemirror_mode": {
    "name": "ipython",
    "version": 3
   },
   "file_extension": ".py",
   "mimetype": "text/x-python",
   "name": "python",
   "nbconvert_exporter": "python",
   "pygments_lexer": "ipython3",
   "version": "3.7.4"
  }
 },
 "nbformat": 4,
 "nbformat_minor": 2
}
