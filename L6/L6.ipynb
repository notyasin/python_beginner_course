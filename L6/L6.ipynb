{
 "cells": [
  {
   "cell_type": "markdown",
   "metadata": {},
   "source": [
    "# レッスン６（補講）：Python文字列の書式指定とフォーマット（.format機能）\n",
    "\n",
    "フォーマット文字列に f をつけると、文字列リテラルに変数を埋め込むことができます。これを f-String (f 文字列) といいます。\n",
    "\n",
    "f String では、文字列中に``` {変数名} ```と記述することでその箇所に指定した変数の値が入ります。"
   ]
  },
  {
   "cell_type": "code",
   "execution_count": 7,
   "metadata": {},
   "outputs": [
    {
     "name": "stdout",
     "output_type": "stream",
     "text": [
      "Hello, world!\n",
      "次の受付番号は78\n"
     ]
    }
   ],
   "source": [
    "a = 'Hello'\n",
    "b = 'world'\n",
    "print(f'{a}, {b}!') # 先頭に f を付ける\n",
    "\n",
    "r = 78\n",
    "print(f\"次の受付番号は{r}\")"
   ]
  },
  {
   "cell_type": "markdown",
   "metadata": {},
   "source": [
    "**小さい課題：次の欄で変数を作って、文字列と変数に代入された値を一気でprintしてください。**"
   ]
  },
  {
   "cell_type": "code",
   "execution_count": 8,
   "metadata": {},
   "outputs": [],
   "source": [
    "# コードはこの下から始めてください\n"
   ]
  },
  {
   "cell_type": "markdown",
   "metadata": {},
   "source": [
    "## format 関数によるフォーマット\n",
    "\n",
    "次の方法は```format()```関数を使う方法です。主に数値のフォーマットに使います。\n",
    "\n",
    "フォーマット文字列の中で``` {n} ```とすることで、```format() ```関数へ渡した変数のインデックスを指定できます。\n",
    "\n",
    "番号付けを行わない場合は``` {} ```出現位置の順番に自動的に番号付けされます。最初の``` {}```がインデックス 0 で、次が 1 という具合です。"
   ]
  },
  {
   "cell_type": "code",
   "execution_count": 5,
   "metadata": {},
   "outputs": [
    {
     "name": "stdout",
     "output_type": "stream",
     "text": [
      "333 777.4\n",
      "333 777.4\n",
      "777.4 333\n"
     ]
    }
   ],
   "source": [
    "i = 333\n",
    "j = 777\n",
    "print('{0} {1}'.format(i,j))\n",
    "\n",
    "print('{} {}'.format(i,j))\n",
    "\n",
    "print('{1} {0}'.format(i,j))\n"
   ]
  },
  {
   "cell_type": "markdown",
   "metadata": {},
   "source": [
    "番号付けの省略と明示的な指定は混在させることはできません。例えば ```'{1} {}'``` と指定するとエラーになります。\n",
    "\n",
    "```{}```ではインデックス番号ではなく、キーワードで指定することもできます。format 関数の引数で、キーワードに対する値を設定します。"
   ]
  },
  {
   "cell_type": "code",
   "execution_count": 4,
   "metadata": {},
   "outputs": [
    {
     "name": "stdout",
     "output_type": "stream",
     "text": [
      "Hi, Asumi!\n"
     ]
    }
   ],
   "source": [
    "x = 'Asumi'\n",
    "print('Hi, {name}!'.format(name=x))"
   ]
  },
  {
   "cell_type": "markdown",
   "metadata": {},
   "source": [
    "**小さい課題：format関数で文字列と変数に代入された値を一気でprintしてください。**"
   ]
  },
  {
   "cell_type": "code",
   "execution_count": 9,
   "metadata": {},
   "outputs": [],
   "source": [
    "# コードはこの下から始めてください。\n"
   ]
  },
  {
   "cell_type": "markdown",
   "metadata": {},
   "source": [
    "** 注意点：最新バーションのPythonで、format関数よりf-Stringの方を使うのはおすすめです。なぜなら、より読みやすいと書きやすいからです。**"
   ]
  },
  {
   "cell_type": "markdown",
   "metadata": {},
   "source": [
    "## 最後の課題\n",
    "1. 十分長い文字列を含めて、f-Stringを利用して、二つの変数も同時にprintしてください。\n",
    "2. 十分長い文字列を含めて、format関数を利用して、二つの変数も同時にprintしてください。"
   ]
  },
  {
   "cell_type": "code",
   "execution_count": null,
   "metadata": {},
   "outputs": [],
   "source": []
  }
 ],
 "metadata": {
  "kernelspec": {
   "display_name": "Python 3",
   "language": "python",
   "name": "python3"
  },
  "language_info": {
   "codemirror_mode": {
    "name": "ipython",
    "version": 3
   },
   "file_extension": ".py",
   "mimetype": "text/x-python",
   "name": "python",
   "nbconvert_exporter": "python",
   "pygments_lexer": "ipython3",
   "version": "3.7.4"
  }
 },
 "nbformat": 4,
 "nbformat_minor": 2
}
