{
 "cells": [
  {
   "cell_type": "markdown",
   "metadata": {},
   "source": [
    "# レッスン１２：まとめ　➡　for文 と while文\n",
    "\n",
    "今回の授業で、前三回の授業のまとめです。for文とwhile文の復習をしましょう。\n",
    "\n",
    "この授業では、主に問題演習を行います。頑張りましょう！"
   ]
  },
  {
   "cell_type": "markdown",
   "metadata": {},
   "source": [
    "## 課題１\n",
    "\n",
    "リストのすべての項目が印刷されるように、forループとwhileループを書きなさい。\n",
    "\n",
    "```list1 = [\"I\", \"am\", \"not\", \"a\", \"hero\", \"but\", \"I\", \"am\", \"a\", \"villain\"]```"
   ]
  },
  {
   "cell_type": "code",
   "execution_count": 16,
   "metadata": {},
   "outputs": [
    {
     "name": "stdout",
     "output_type": "stream",
     "text": [
      "I\n",
      "am\n",
      "not\n",
      "a\n",
      "hero\n",
      "but\n",
      "I\n",
      "am\n",
      "a\n",
      "villain\n"
     ]
    }
   ],
   "source": [
    "# for文はここから始めてください\n",
    "list1 = [\"I\", \"am\", \"not\", \"a\", \"hero\", \"but\", \"I\", \"am\", \"a\", \"villain\"]\n",
    "\n",
    "for i in list1:\n",
    "    print(i)"
   ]
  },
  {
   "cell_type": "code",
   "execution_count": 20,
   "metadata": {},
   "outputs": [
    {
     "name": "stdout",
     "output_type": "stream",
     "text": [
      "am\n"
     ]
    }
   ],
   "source": [
    "print(list1[1])"
   ]
  },
  {
   "cell_type": "code",
   "execution_count": 26,
   "metadata": {},
   "outputs": [
    {
     "name": "stdout",
     "output_type": "stream",
     "text": [
      "I\n",
      "am\n",
      "not\n",
      "a\n",
      "hero\n",
      "but\n",
      "I\n",
      "am\n",
      "a\n",
      "villain\n"
     ]
    }
   ],
   "source": [
    "# while文はここから始めてください\n",
    "d = 0\n",
    "\n",
    "while d < 10:\n",
    "    print(list1[d])\n",
    "    d += 1"
   ]
  },
  {
   "cell_type": "markdown",
   "metadata": {},
   "source": [
    "## 課題２\n",
    "\n",
    "下のリストを利用して、同じ結果を得られるようなコードを書きなさい。\n",
    "\n",
    "```list2 = [\"my\", \"pet\", \"is\", 'not', 'a', \"fish\", \"but\", \"a\", \"tiger!\"]```\n",
    "\n",
    "得ないのいけない結果：\n",
    "\n",
    "```\n",
    "my \n",
    "tiger!\n",
    "```\n",
    "\n",
    "ヒント：print関数、if-else文を利用しましょう。"
   ]
  },
  {
   "cell_type": "code",
   "execution_count": 30,
   "metadata": {},
   "outputs": [
    {
     "name": "stdout",
     "output_type": "stream",
     "text": [
      "my\n",
      "tiger!\n",
      "my\n",
      "tiger!\n"
     ]
    }
   ],
   "source": [
    "# for文はここから始めてください\n",
    "list2 = [\"my\", \"pet\", \"is\", 'not', 'a', \"fish\", \"but\", \"a\", \"tiger!\"]\n",
    "\n",
    "for i in list2:\n",
    "    if i == \"my\":\n",
    "        print(i)\n",
    "    elif i == \"tiger!\":\n",
    "        print(i)\n",
    "\n",
    "i = 0\n",
    "while i < len(list2):\n",
    "    if list2[i] == \"my\":\n",
    "        print(list2[i])\n",
    "    elif list2[i] == \"tiger!\":\n",
    "        print(list2[i])\n",
    "    i+=1"
   ]
  },
  {
   "cell_type": "code",
   "execution_count": 15,
   "metadata": {},
   "outputs": [
    {
     "name": "stdout",
     "output_type": "stream",
     "text": [
      "my\n",
      "tiger!\n"
     ]
    }
   ],
   "source": []
  },
  {
   "cell_type": "markdown",
   "metadata": {},
   "source": [
    "## 課題３\n",
    "\n",
    "```list2 = [\"my\", \"pet\", \"is\", 'not', 'a', \"fish\", \"but\", \"a\", \"tiger!\"]```\n",
    "```list3 = []```\n",
    "\n",
    "`list2`の要素を`list3`に代入してください。\n",
    "\n",
    "ヒント：append関数を使ってみてください！"
   ]
  },
  {
   "cell_type": "code",
   "execution_count": 40,
   "metadata": {},
   "outputs": [
    {
     "name": "stdout",
     "output_type": "stream",
     "text": [
      "['my']\n",
      "['my', 'pet']\n",
      "['my', 'pet', 'is']\n",
      "['my', 'pet', 'is', 'not']\n",
      "['my', 'pet', 'is', 'not', 'a']\n",
      "['my', 'pet', 'is', 'not', 'a', 'fish']\n",
      "['my', 'pet', 'is', 'not', 'a', 'fish', 'but']\n",
      "['my', 'pet', 'is', 'not', 'a', 'fish', 'but', 'a']\n",
      "['my', 'pet', 'is', 'not', 'a', 'fish', 'but', 'a', 'tiger!']\n"
     ]
    }
   ],
   "source": [
    "# for文はここから始めてください\n",
    "\n",
    "list2 = [\"my\", \"pet\", \"is\", 'not', 'a', \"fish\", \"but\", \"a\", \"tiger!\"] \n",
    "list3 = []\n",
    "\n",
    "for h in list2:\n",
    "    list3.append(h)\n",
    "    \n",
    "print(list3)"
   ]
  },
  {
   "cell_type": "code",
   "execution_count": 44,
   "metadata": {},
   "outputs": [
    {
     "name": "stdout",
     "output_type": "stream",
     "text": [
      "['my', 'pet', 'is', 'not', 'a', 'fish', 'but', 'a', 'tiger!']\n"
     ]
    }
   ],
   "source": [
    "# while文はここから始めてください\n",
    "list2 = [\"my\", \"pet\", \"is\", 'not', 'a', \"fish\", \"but\", \"a\", \"tiger!\"] \n",
    "list3 = []\n",
    "p =0\n",
    "while p < 9:\n",
    "    list3.append(list2[p])\n",
    "\n",
    "    p += 1\n",
    "print(list3)"
   ]
  }
 ],
 "metadata": {
  "kernelspec": {
   "display_name": "Python 3",
   "language": "python",
   "name": "python3"
  },
  "language_info": {
   "codemirror_mode": {
    "name": "ipython",
    "version": 3
   },
   "file_extension": ".py",
   "mimetype": "text/x-python",
   "name": "python",
   "nbconvert_exporter": "python",
   "pygments_lexer": "ipython3",
   "version": "3.7.4"
  }
 },
 "nbformat": 4,
 "nbformat_minor": 2
}
