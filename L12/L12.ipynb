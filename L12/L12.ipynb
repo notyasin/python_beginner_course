{
 "cells": [
  {
   "cell_type": "markdown",
   "metadata": {},
   "source": [
    "# レッスン１２：まとめ　➡　for文 と while文\n",
    "\n",
    "今回の授業で、前三回の授業のまとめです。for文とwhile文の復習をしましょう。\n",
    "\n",
    "この授業では、主に問題演習を行います。頑張りましょう！"
   ]
  },
  {
   "cell_type": "markdown",
   "metadata": {},
   "source": [
    "## 課題１\n",
    "\n",
    "リストのすべての項目が印刷されるように、forループとwhileループを書きなさい。\n",
    "\n",
    "```list1 = [\"I\", \"am\", \"not\", \"a\", \"hero\", \"but\", \"I\", \"am\", \"a\", \"villain\"]```"
   ]
  },
  {
   "cell_type": "code",
   "execution_count": null,
   "metadata": {},
   "outputs": [],
   "source": [
    "# for文はここから始めてください\n"
   ]
  },
  {
   "cell_type": "code",
   "execution_count": null,
   "metadata": {},
   "outputs": [],
   "source": [
    "# while文はここから始めてください\n"
   ]
  },
  {
   "cell_type": "markdown",
   "metadata": {},
   "source": [
    "## 課題２\n",
    "\n",
    "下のリストを利用して、同じ結果を得られるようなコードを書きなさい。\n",
    "\n",
    "```list2 = [\"my\", \"pet\", \"is\", 'not', 'a', \"fish\", \"but\", \"a\", \"tiger!\"]```\n",
    "\n",
    "得ないのいけない結果：\n",
    "```my tiger!```\n",
    "\n",
    "ヒント：print関数、if-else文を利用しましょう。"
   ]
  },
  {
   "cell_type": "code",
   "execution_count": 5,
   "metadata": {},
   "outputs": [],
   "source": [
    "# for文はここから始めてください\n"
   ]
  },
  {
   "cell_type": "code",
   "execution_count": 6,
   "metadata": {},
   "outputs": [],
   "source": [
    "# while文はここから始めてください\n"
   ]
  },
  {
   "cell_type": "markdown",
   "metadata": {},
   "source": [
    "## 課題３\n",
    "\n",
    "```list2 = [\"my\", \"pet\", \"is\", 'not', 'a', \"fish\", \"but\", \"a\", \"tiger!\"]```\n",
    "```list3 = []```\n",
    "\n",
    "`list2`の要素を`list3`に代入してください。\n",
    "\n",
    "ヒント：append関数を使ってみてください！"
   ]
  },
  {
   "cell_type": "code",
   "execution_count": null,
   "metadata": {},
   "outputs": [],
   "source": [
    "# for文はここから始めてください\n"
   ]
  },
  {
   "cell_type": "code",
   "execution_count": 7,
   "metadata": {},
   "outputs": [],
   "source": [
    "# while文はここから始めてください\n"
   ]
  }
 ],
 "metadata": {
  "kernelspec": {
   "display_name": "Python 3",
   "language": "python",
   "name": "python3"
  },
  "language_info": {
   "codemirror_mode": {
    "name": "ipython",
    "version": 3
   },
   "file_extension": ".py",
   "mimetype": "text/x-python",
   "name": "python",
   "nbconvert_exporter": "python",
   "pygments_lexer": "ipython3",
   "version": "3.7.4"
  }
 },
 "nbformat": 4,
 "nbformat_minor": 2
}
