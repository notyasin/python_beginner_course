{
 "cells": [
  {
   "cell_type": "markdown",
   "metadata": {
    "id": "HIWmFttKjeQR"
   },
   "source": [
    "# レッスン３：Pythonの数値（Numbers＝ナンバーズ）\n",
    "\n",
    "Pythonでは、数値は属されています。このレベルでは、二つのカテゴリーを紹介します：\n",
    "1. Integer　＝　整数\n",
    "2. Decimal Number　＝　十進数\n",
    "\n",
    "\n",
    "それぞれのカテゴリーはPythonでこう呼ぶ：\n",
    "1. 整数は「int」と示す。\n",
    "2. 十進数は「float」と示す。\n",
    "\n",
    "とても単純なコンセプトで、すぐ理解できるでしょう。\n",
    "<br>それで、どうPythonで弁えるか？"
   ]
  },
  {
   "cell_type": "code",
   "execution_count": null,
   "metadata": {
    "id": "awmGEajgjeQY"
   },
   "outputs": [],
   "source": [
    "var_1 = 45\n",
    "var_2 = 43.54"
   ]
  },
  {
   "cell_type": "markdown",
   "metadata": {
    "id": "L_kZwr7vjeQa"
   },
   "source": [
    "上の場合でしたら、見るだけで見分けできますね。上は「int」、下は「float」。\n",
    "\n",
    "ですが、目で見えない場合、この下に示している「type」という機能を使えば、Pythonがその見分けをしてくれます。\n",
    "\n",
    "次の例を見てください（print機能を使用して、結果が出る）："
   ]
  },
  {
   "cell_type": "code",
   "execution_count": null,
   "metadata": {
    "id": "o-npBqeYjeQb",
    "outputId": "a5abc20a-681a-470d-fea7-4e200f88d1f7"
   },
   "outputs": [
    {
     "name": "stdout",
     "output_type": "stream",
     "text": [
      "<class 'int'>\n",
      "<class 'float'>\n",
      "<class 'float'>\n"
     ]
    }
   ],
   "source": [
    "var_1 = 45\n",
    "print(type(var_1))\n",
    "\n",
    "var_2 = 45.\n",
    "print(type(var_2))\n",
    "\n",
    "var_3 = 43.54\n",
    "print(type(var_3))"
   ]
  },
  {
   "cell_type": "markdown",
   "metadata": {
    "id": "NuQ6sO7PjeQd"
   },
   "source": [
    "Pythonで十進法を元々変数に代入された数字に考慮されたら、自動的にintかfloatを弁えてくれます。\n",
    "<br>var_2に示すように、ただ小数点を考慮したら、自動的に十進数になってしまいます。\n",
    "\n",
    "**課題：下の欄に自分のvariableを作成し、type機能を使ってください**"
   ]
  },
  {
   "cell_type": "code",
   "execution_count": null,
   "metadata": {
    "id": "1KWqksc0jeQd"
   },
   "outputs": [],
   "source": [
    "# この下から君のコードを初めてください。\n",
    "var_4 = \n",
    "var_5 =\n",
    "var_6 =\n",
    "\n",
    "# 変数に代入したら、typeを確認ください。"
   ]
  },
  {
   "cell_type": "markdown",
   "metadata": {
    "id": "MyouO1kOjeQe"
   },
   "source": [
    "type機能も数値以外が見分けできます。今まで勉強した機能も探知できます。\n",
    "\n",
    "次示す例には、type機能でlistとstringを弁えます。例："
   ]
  },
  {
   "cell_type": "code",
   "execution_count": null,
   "metadata": {
    "id": "_ArubScPjeQe",
    "outputId": "f49b8a83-200c-45d6-fb27-2e35ce3faa9e"
   },
   "outputs": [
    {
     "name": "stdout",
     "output_type": "stream",
     "text": [
      "<class 'list'>\n",
      "<class 'str'>\n"
     ]
    }
   ],
   "source": [
    "list_1 = [1,2,3]\n",
    "print(type(list_1))\n",
    "\n",
    "string_1 = \"STEMONホンゴ校\"\n",
    "print(type(string_1))"
   ]
  },
  {
   "cell_type": "markdown",
   "metadata": {
    "id": "Tj7O_yp0jeQf"
   },
   "source": [
    "## データの操る：int、floatとstring。なぜそれぞれのタイプが大事。\n",
    "\n",
    "Pythonで、int、floatとstringの中で、ある程度までtypeを変革できます。\n",
    "<br>次の例に、Pythonでstringとして代入された変数は数字ではない。そのため、そのstringは計算に使えません。。\n",
    "\n",
    "下の例をご覧ください。"
   ]
  },
  {
   "cell_type": "code",
   "execution_count": 5,
   "metadata": {
    "colab": {
     "base_uri": "https://localhost:8080/"
    },
    "executionInfo": {
     "elapsed": 503,
     "status": "ok",
     "timestamp": 1648258971009,
     "user": {
      "displayName": "ステモン本郷",
      "photoUrl": "https://lh3.googleusercontent.com/a-/AOh14GjfZGgGihAObEBt0P9q-CkxeO2A8k9hQ7S4UxIL=s64",
      "userId": "10099309429124944812"
     },
     "user_tz": -540
    },
    "id": "NCWywgnyjeQf",
    "outputId": "faba4802-5ad3-451f-a035-169ccf84c229"
   },
   "outputs": [
    {
     "name": "stdout",
     "output_type": "stream",
     "text": [
      "3433\n",
      "asumiStemon\n"
     ]
    }
   ],
   "source": [
    "string_2 = \"34\"\n",
    "string_3 = \"33\"\n",
    "# この下に上に代入された変数を足し算してみましょう\n",
    "print(string_2 + string_3)\n",
    "\n",
    "string_4 = \"asumi\"\n",
    "string_5 = \"Stemon\"\n",
    "\n",
    "print(string_4 + string_5)\n"
   ]
  },
  {
   "cell_type": "markdown",
   "metadata": {
    "id": "x8QltIR8k-pk"
   },
   "source": [
    "結果は表示されたように、計算はしていませんでした。ただ二つのstringを張ってしてしまう状態になる。\n",
    "\n",
    "そのstringをinteger(整数)に変えて、数学計算で使えるになります。次の例を見てください："
   ]
  },
  {
   "cell_type": "code",
   "execution_count": 2,
   "metadata": {
    "colab": {
     "base_uri": "https://localhost:8080/"
    },
    "executionInfo": {
     "elapsed": 413,
     "status": "ok",
     "timestamp": 1648257745557,
     "user": {
      "displayName": "ステモン本郷",
      "photoUrl": "https://lh3.googleusercontent.com/a-/AOh14GjfZGgGihAObEBt0P9q-CkxeO2A8k9hQ7S4UxIL=s64",
      "userId": "10099309429124944812"
     },
     "user_tz": -540
    },
    "id": "Dwo-TR4Zmfzj",
    "outputId": "ff8f8a36-ddc9-4bab-d12f-2e9dfd480c77"
   },
   "outputs": [
    {
     "name": "stdout",
     "output_type": "stream",
     "text": [
      "<class 'str'>\n",
      "<class 'str'>\n"
     ]
    }
   ],
   "source": [
    "string_2 = \"34\"\n",
    "string_3 = \"33\"\n",
    "# まずこの変数のtypeを確認しましょう。確認しましょう。\n",
    "print(type(string_2))\n",
    "print(type(string_3))"
   ]
  },
  {
   "cell_type": "code",
   "execution_count": 3,
   "metadata": {
    "colab": {
     "base_uri": "https://localhost:8080/"
    },
    "executionInfo": {
     "elapsed": 433,
     "status": "ok",
     "timestamp": 1648257750698,
     "user": {
      "displayName": "ステモン本郷",
      "photoUrl": "https://lh3.googleusercontent.com/a-/AOh14GjfZGgGihAObEBt0P9q-CkxeO2A8k9hQ7S4UxIL=s64",
      "userId": "10099309429124944812"
     },
     "user_tz": -540
    },
    "id": "h-O4coVbrDZ1",
    "outputId": "a39b1726-15ff-47fd-947b-b45f1e6c4aaf"
   },
   "outputs": [
    {
     "name": "stdout",
     "output_type": "stream",
     "text": [
      "<class 'int'>\n",
      "<class 'int'>\n"
     ]
    }
   ],
   "source": [
    "# それで、このようにstringからint（整数）に変革できます。「int」とついでにカッコを使えば、それを達成できます。。\n",
    "# すぐ変革されたstringを新しい変数へ代入します。\n",
    "new_string_1 = int(string_2)\n",
    "new_string_2 = int(string_3)\n",
    "\n",
    "# new_string_1と2typeを確認しましょう\n",
    "print(type(new_string_1))\n",
    "print(type(new_string_2))"
   ]
  },
  {
   "cell_type": "markdown",
   "metadata": {
    "id": "ebRW_11l0Wd8"
   },
   "source": [
    "結果を見れば、以前stringだった変数はintとなりました。\n",
    "\n",
    "そこで、\n",
    "<br>**課題：stringから作った数値を計算してみましょう。**"
   ]
  },
  {
   "cell_type": "code",
   "execution_count": null,
   "metadata": {
    "id": "6PZ01xz_v7DE"
   },
   "outputs": [],
   "source": [
    "# この下から君のコードを書いてください。\n"
   ]
  },
  {
   "cell_type": "markdown",
   "metadata": {
    "id": "KpLAif6u__uK"
   },
   "source": [
    "さっき教えた機能はint()でstringをintegerに変えられます。\n",
    "\n",
    "次は、この機能を学びましょう：\n",
    "1. stringかintegerを**float（十進数）**に変える。\n",
    "2. integerかfloatをを**string**へ変える。。\n",
    "\n",
    "それぞれの機能を利用するとき、int()機能と似ていて、こう書きます：：\n",
    "1. float(変革したいものをカッコに入れること)\n",
    "2. str(変革したいものをカッコに入れること)\n",
    "\n",
    "例を見てください。"
   ]
  },
  {
   "cell_type": "code",
   "execution_count": 11,
   "metadata": {
    "colab": {
     "base_uri": "https://localhost:8080/"
    },
    "executionInfo": {
     "elapsed": 730,
     "status": "ok",
     "timestamp": 1648262242532,
     "user": {
      "displayName": "ステモン本郷",
      "photoUrl": "https://lh3.googleusercontent.com/a-/AOh14GjfZGgGihAObEBt0P9q-CkxeO2A8k9hQ7S4UxIL=s64",
      "userId": "10099309429124944812"
     },
     "user_tz": -540
    },
    "id": "Y3RVjj9YB-yA",
    "outputId": "71278c24-727f-4944-8b2c-71f660ad92b5"
   },
   "outputs": [
    {
     "name": "stdout",
     "output_type": "stream",
     "text": [
      "45.66\n",
      "<class 'str'>\n",
      "45.66\n",
      "<class 'float'>\n"
     ]
    }
   ],
   "source": [
    "# 例：\n",
    "string_6 = \"45.66\"\n",
    "print(string_6)\n",
    "print(type(string_6))\n",
    "\n",
    "# それで、string_6をfloatに変えます。\n",
    "string_6 = float(string_6)\n",
    "print(string_6)\n",
    "print(type(string_6))\n"
   ]
  },
  {
   "cell_type": "code",
   "execution_count": 13,
   "metadata": {
    "colab": {
     "base_uri": "https://localhost:8080/"
    },
    "executionInfo": {
     "elapsed": 455,
     "status": "ok",
     "timestamp": 1648262336426,
     "user": {
      "displayName": "ステモン本郷",
      "photoUrl": "https://lh3.googleusercontent.com/a-/AOh14GjfZGgGihAObEBt0P9q-CkxeO2A8k9hQ7S4UxIL=s64",
      "userId": "10099309429124944812"
     },
     "user_tz": -540
    },
    "id": "ZPGWxr5PE5C8",
    "outputId": "08959821-d77b-4acf-ed70-316a0db8615b"
   },
   "outputs": [
    {
     "name": "stdout",
     "output_type": "stream",
     "text": [
      "44.78\n",
      "<class 'float'>\n",
      "44.78\n",
      "<class 'str'>\n"
     ]
    }
   ],
   "source": [
    "# 例：\n",
    "float_2 = 44.78\n",
    "print(float_2)\n",
    "print(type(float_2))\n",
    "\n",
    "float_2 = str(float_2)\n",
    "print(float_2)\n",
    "print(type(float_2))"
   ]
  },
  {
   "cell_type": "markdown",
   "metadata": {
    "id": "xJzA-oSnHn_Y"
   },
   "source": [
    "**注意点：十進数を整数に変革してしまったら、データが変わってしまい、場合によって大問題になります。**\n",
    "\n",
    "**少数が消えてしまいます**\n",
    "\n",
    "次の例へご覧ください。"
   ]
  },
  {
   "cell_type": "code",
   "execution_count": 14,
   "metadata": {
    "colab": {
     "base_uri": "https://localhost:8080/"
    },
    "executionInfo": {
     "elapsed": 8,
     "status": "ok",
     "timestamp": 1648263073526,
     "user": {
      "displayName": "ステモン本郷",
      "photoUrl": "https://lh3.googleusercontent.com/a-/AOh14GjfZGgGihAObEBt0P9q-CkxeO2A8k9hQ7S4UxIL=s64",
      "userId": "10099309429124944812"
     },
     "user_tz": -540
    },
    "id": "EXhNB5l5HjTb",
    "outputId": "4c3e1b5c-e82d-4cd8-ef54-36b8d410dd9f"
   },
   "outputs": [
    {
     "name": "stdout",
     "output_type": "stream",
     "text": [
      "23.456\n",
      "23\n"
     ]
    }
   ],
   "source": [
    "float_3 = 23.456\n",
    "print(float_3)\n",
    "\n",
    "float_3 = int(float_3)\n",
    "print(float_3)"
   ]
  },
  {
   "cell_type": "markdown",
   "metadata": {
    "id": "KporJ5f43MkK"
   },
   "source": [
    "**注意点：floatとintを混ぜて計算していいですが、その二つをstringと数学計算できません**\n",
    "<br>次の例をご覧ください"
   ]
  },
  {
   "cell_type": "code",
   "execution_count": 6,
   "metadata": {
    "colab": {
     "base_uri": "https://localhost:8080/",
     "height": 171
    },
    "executionInfo": {
     "elapsed": 406,
     "status": "error",
     "timestamp": 1648259577016,
     "user": {
      "displayName": "ステモン本郷",
      "photoUrl": "https://lh3.googleusercontent.com/a-/AOh14GjfZGgGihAObEBt0P9q-CkxeO2A8k9hQ7S4UxIL=s64",
      "userId": "10099309429124944812"
     },
     "user_tz": -540
    },
    "id": "N57ixi6Z4I2N",
    "outputId": "34a60cb9-cf58-4712-aa64-16c84f487f9f"
   },
   "outputs": [
    {
     "ename": "TypeError",
     "evalue": "ignored",
     "output_type": "error",
     "traceback": [
      "\u001b[0;31m---------------------------------------------------------------------------\u001b[0m",
      "\u001b[0;31mTypeError\u001b[0m                                 Traceback (most recent call last)",
      "\u001b[0;32m<ipython-input-6-9eab4a60d482>\u001b[0m in \u001b[0;36m<module>\u001b[0;34m()\u001b[0m\n\u001b[0;32m----> 1\u001b[0;31m \u001b[0mprint\u001b[0m\u001b[0;34m(\u001b[0m\u001b[0;36m56\u001b[0m \u001b[0;34m+\u001b[0m \u001b[0;34m\"例　string\"\u001b[0m\u001b[0;34m)\u001b[0m\u001b[0;34m\u001b[0m\u001b[0;34m\u001b[0m\u001b[0m\n\u001b[0m",
      "\u001b[0;31mTypeError\u001b[0m: unsupported operand type(s) for +: 'int' and 'str'"
     ]
    }
   ],
   "source": [
    "print(56 + \"例　string\")"
   ]
  },
  {
   "cell_type": "markdown",
   "metadata": {
    "id": "r6uaDi7B7W1a"
   },
   "source": [
    "TypeErrorが出てきました。簡潔に言えば、このエラーははtypeが合わないためこうなってしまう。\n",
    "\n",
    "ですが、floatとintの数値を追加したら、結果はfloatになります。例："
   ]
  },
  {
   "cell_type": "code",
   "execution_count": 7,
   "metadata": {
    "colab": {
     "base_uri": "https://localhost:8080/"
    },
    "executionInfo": {
     "elapsed": 536,
     "status": "ok",
     "timestamp": 1648260218602,
     "user": {
      "displayName": "ステモン本郷",
      "photoUrl": "https://lh3.googleusercontent.com/a-/AOh14GjfZGgGihAObEBt0P9q-CkxeO2A8k9hQ7S4UxIL=s64",
      "userId": "10099309429124944812"
     },
     "user_tz": -540
    },
    "id": "gvOTNDSr8Jj7",
    "outputId": "f86ba7d7-7b31-4e56-9bab-6253ddaad22e"
   },
   "outputs": [
    {
     "name": "stdout",
     "output_type": "stream",
     "text": [
      "347.12\n",
      "<class 'float'>\n"
     ]
    }
   ],
   "source": [
    "float_1 = 345.12\n",
    "int_1 = 2\n",
    "\n",
    "kekka = float_1 + int_1\n",
    "print(kekka)\n",
    "print(type(kekka))"
   ]
  },
  {
   "cell_type": "markdown",
   "metadata": {
    "id": "P-Y_eOEy98lr"
   },
   "source": [
    "## 最後の課題\n",
    "\n",
    "ちゃんと馴染むため、次の欄にしたの箇条書きされた課題を順番に達成してください。\n",
    "1. それぞれの変数のtypeを確認してprintしてください。\n",
    "2. それで、先生が用意した変数を全て足し算を行ってください。\n",
    "3. 最後の結果はstringとしてtypeを変革してください。"
   ]
  },
  {
   "cell_type": "code",
   "execution_count": 15,
   "metadata": {
    "executionInfo": {
     "elapsed": 634,
     "status": "ok",
     "timestamp": 1648263410506,
     "user": {
      "displayName": "ステモン本郷",
      "photoUrl": "https://lh3.googleusercontent.com/a-/AOh14GjfZGgGihAObEBt0P9q-CkxeO2A8k9hQ7S4UxIL=s64",
      "userId": "10099309429124944812"
     },
     "user_tz": -540
    },
    "id": "h9XYyiE-GRgi"
   },
   "outputs": [],
   "source": [
    "a = \"989.44\"\n",
    "b = \"56\"\n",
    "c = 45.64\n",
    "d = 5\n",
    "\n",
    "# この下から君のコードを書き始めてください\n"
   ]
  }
 ],
 "metadata": {
  "colab": {
   "collapsed_sections": [],
   "name": "L3.ipynb",
   "provenance": []
  },
  "kernelspec": {
   "display_name": "Python 3",
   "language": "python",
   "name": "python3"
  },
  "language_info": {
   "codemirror_mode": {
    "name": "ipython",
    "version": 3
   },
   "file_extension": ".py",
   "mimetype": "text/x-python",
   "name": "python",
   "nbconvert_exporter": "python",
   "pygments_lexer": "ipython3",
   "version": "3.8.3"
  }
 },
 "nbformat": 4,
 "nbformat_minor": 1
}
