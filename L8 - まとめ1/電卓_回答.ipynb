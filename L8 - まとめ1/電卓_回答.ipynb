{
 "cells": [
  {
   "cell_type": "code",
   "execution_count": null,
   "metadata": {},
   "outputs": [],
   "source": [
    "print(\"Please select operation -\\n\" \\\n",
    "        \"1. Add\\n\" \\\n",
    "        \"2. Subtract\\n\" \\\n",
    "        \"3. Multiply\\n\" \\\n",
    "        \"4. Divide\\n\")\n",
    " \n",
    " \n",
    "# Take input from the user\n",
    "\n",
    "select = int(input(\"Select operations form 1, 2, 3, 4 :\"))\n",
    " \n",
    "number_1 = float(input(\"Enter first number: \"))\n",
    "number_2 = float(input(\"Enter second number: \"))\n",
    " \n",
    "if select == 1:\n",
    "    print(\"{} + {} = {}\".format(number_1, number_2, number_1 + number_2))\n",
    "#     print(number_1, \"+\", number_2, \"=\", number_1 + number_2)\n",
    " \n",
    "elif select == 2:\n",
    "    print(number_1, \"-\", number_2, \"=\", number_1 - number_2)\n",
    " \n",
    "elif select == 3:\n",
    "    print(number_1, \"*\", number_2, \"=\", number_1 * number_2)\n",
    " \n",
    "elif select == 4:\n",
    "    print(number_1, \"/\", number_2, \"=\", number_1 / number_2)\n",
    "else:\n",
    "    print(\"Invalid input\")"
   ]
  }
 ],
 "metadata": {
  "kernelspec": {
   "display_name": "Python 3",
   "language": "python",
   "name": "python3"
  },
  "language_info": {
   "codemirror_mode": {
    "name": "ipython",
    "version": 3
   },
   "file_extension": ".py",
   "mimetype": "text/x-python",
   "name": "python",
   "nbconvert_exporter": "python",
   "pygments_lexer": "ipython3",
   "version": "3.7.4"
  }
 },
 "nbformat": 4,
 "nbformat_minor": 2
}
