{
 "cells": [
  {
   "cell_type": "markdown",
   "metadata": {},
   "source": [
    "# レッスン８：まとめ → Pythonの計算機を作りましょう。\n",
    "\n",
    "この授業で、今まで学んだことを全体的に振り返て、Pythonコードで計算機を構築しましょう。\n",
    "<br>この計算機を創るため二つの授業を用意しますので、ゆっくり全て理解できるまでゴールを達成しましょう。"
   ]
  },
  {
   "cell_type": "markdown",
   "metadata": {},
   "source": [
    "## 8.1 Input関数\n",
    "アプリのような計算機を動いてもらいたいから、二つまだ教えていない機能やコンセプトをここで一旦教えます。\n",
    "\n",
    "今まで、Pythonコードを実行した後、入力したり消したりするのは不可能でした。そこで、**input()関数**を紹介しましょう。"
   ]
  },
  {
   "cell_type": "code",
   "execution_count": null,
   "metadata": {},
   "outputs": [],
   "source": [
    "hensuu = input(\"名前を入力してください：\")\n",
    "print(hensuu)\n",
    "\n",
    "hensuu1 = input(\"今年は何年ですか？\")\n",
    "print(hensuu1)"
   ]
  },
  {
   "cell_type": "markdown",
   "metadata": {},
   "source": [
    "**このように、プログラムを実行した後も、変数に何を代入したいか後に決められます。**\n",
    "\n",
    "早速ですけど、すぐ自分で実行してみましょう。\n",
    "\n",
    "小さい課題：\n",
    "1. まずinput関数で使って、二つfloat変数を作ってください。\n",
    "2. それで、その二つの変数を足して合計を解決してください。"
   ]
  },
  {
   "cell_type": "code",
   "execution_count": 1,
   "metadata": {},
   "outputs": [],
   "source": [
    "# 君のコードはここから始めてください\n"
   ]
  },
  {
   "cell_type": "markdown",
   "metadata": {},
   "source": [
    "## 8.2 Flowchart (フローチャート) = 流れ図\n",
    "\n",
    "それで、フローチャートを学びましょう。このフローチャートで電卓の仕組みを理解できます。\n",
    "\n",
    "<img src=\"flowchartcalculator.jpg\" alt=\"Drawing\" style=\"width: 800px;\"/>\n",
    "\n"
   ]
  },
  {
   "cell_type": "markdown",
   "metadata": {},
   "source": [
    "## 上のflowchartを従い、電卓を作りましょう！\n",
    "\n",
    "下の欄にコードを入力しましょう。"
   ]
  },
  {
   "cell_type": "code",
   "execution_count": null,
   "metadata": {},
   "outputs": [],
   "source": []
  }
 ],
 "metadata": {
  "kernelspec": {
   "display_name": "Python 3",
   "language": "python",
   "name": "python3"
  },
  "language_info": {
   "codemirror_mode": {
    "name": "ipython",
    "version": 3
   },
   "file_extension": ".py",
   "mimetype": "text/x-python",
   "name": "python",
   "nbconvert_exporter": "python",
   "pygments_lexer": "ipython3",
   "version": "3.7.4"
  }
 },
 "nbformat": 4,
 "nbformat_minor": 2
}
