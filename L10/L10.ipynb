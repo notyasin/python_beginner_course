{
 "cells": [
  {
   "cell_type": "markdown",
   "metadata": {},
   "source": [
    "# レッスン１０：Python の制御文　➡　for文 （第二）\n",
    "\n",
    "今回の授業でこちらのfor文の応用を検討していきます。この関数はとんでもなく重要な関数なので、様々な応用仕方をこの授業で体験するのは中心。\n",
    "\n",
    "以前の授業で学んだことをもう一回ここで馴染むまで勉強していきましょう。\n",
    "\n",
    "まず、for文を書く時、何回繰り返すかを制御するため、条件を入力しないといけないですね。例を見てみましょう：\n",
    "\n",
    "```Python\n",
    "for i in (条件=list1):\n",
    "    (繰り返したいコード)\n",
    "    \n",
    "```\n",
    "for文を開始するため、この三つの部分が重要で、それぞれ役割があります。\n",
    "1. ```i``` は変数です。毎回list1からの要素を一つ一つ読み取りをする時、その要素を変数に一時的に代入されます。**代入された時、その要素は扱える。**\n",
    "2. ```list1``` は条件です。条件がなければこのfor文は何を従えばコードがわからないから、必ず書かないといけない。\n",
    "3. ```(繰り返したいコード)``` は書いた通り、そのままの意味です。\n",
    "\n",
    "なぜかforなどの単語が使われているか、それは英語からの単語です。今回はそれについて検討しないです。この関数の仕組みと書き方を理解できれば十分です。\n",
    "\n",
    "そこで、条件の書き方が二つ種類が以前紹介しました。ここでまたもっと見やすい示し方をして、二つの部分に分けます。\n",
    "\n"
   ]
  },
  {
   "cell_type": "markdown",
   "metadata": {},
   "source": [
    "## 10.1 listで制御する\n",
    "\n",
    "タイトルに書いた通り、第一の制御仕方はlist内の要素の数によって、ループが繰り返される回数が決まります。\n",
    "1. この場合でしたら、要素のデータ型が何なのか繰り返しの流れに影響がない。\n",
    "\n",
    "例の示しましょう："
   ]
  },
  {
   "cell_type": "code",
   "execution_count": 16,
   "metadata": {},
   "outputs": [
    {
     "name": "stdout",
     "output_type": "stream",
     "text": [
      "i + 1 = 33\n",
      "i + 1 = 5\n",
      "i + 1 = 6\n",
      "i + 1 = 7\n",
      "i + 1 = 9\n",
      "i + 1 = 3\n",
      "i + 1 = 13\n"
     ]
    }
   ],
   "source": [
    "list1 = [32, 4, 5, 6, 8, 2, 12]\n",
    "\n",
    "for i in list1:\n",
    "    # ここで、変数 i を扱える。\n",
    "    i = i + 1\n",
    "    print(\"i + 1 =\", i)"
   ]
  },
  {
   "cell_type": "code",
   "execution_count": 18,
   "metadata": {},
   "outputs": [
    {
     "name": "stdout",
     "output_type": "stream",
     "text": [
      "park\n",
      "parkpark\n",
      "museum\n",
      "museummuseum\n",
      "school\n",
      "schoolschool\n",
      "supermarket\n",
      "supermarketsupermarket\n",
      "apartment\n",
      "apartmentapartment\n",
      "bus stop\n",
      "bus stopbus stop\n",
      "university\n",
      "universityuniversity\n"
     ]
    }
   ],
   "source": [
    "list2 = [\"park\", \"museum\", \"school\", \"supermarket\", \"apartment\", \"bus stop\", \"university\"]\n",
    "\n",
    "for b in list2:\n",
    "    # そのまま　b をprintできます。\n",
    "    print(b)\n",
    "    print(b*2)"
   ]
  },
  {
   "cell_type": "markdown",
   "metadata": {},
   "source": [
    "### 練習をしましょう！\n",
    "\n",
    "ポイント：**このようなコンセプトを初めて勉強する時、一つ一つfor文の部分を書く時、それぞれの役割を意識しながら書いたら、全体的の仕組みがもっと理解しやすくなるかもしれない**\n",
    "\n",
    "1. for文で整数が入っているlistを作って、それぞれの要素をprintするけど、次の要素に進む前に、同じ要素に２を足してください。"
   ]
  },
  {
   "cell_type": "code",
   "execution_count": 2,
   "metadata": {},
   "outputs": [
    {
     "name": "stdout",
     "output_type": "stream",
     "text": [
      "1\n",
      "meme\n",
      "2\n",
      "meme\n",
      "3\n",
      "meme\n",
      "4\n",
      "meme\n",
      "5\n",
      "meme\n",
      "6\n",
      "meme\n"
     ]
    }
   ],
   "source": [
    "# コードはこの下から初めてください。\n",
    "list_ = [1, 2, 3, 4, 5, 6, ]\n",
    "for a in list_:\n",
    "    print(a)\n",
    "    print(\"meme\")\n"
   ]
  },
  {
   "cell_type": "markdown",
   "metadata": {},
   "source": [
    "2. for文で```-10```～```-1```までの数字を表示してください。"
   ]
  },
  {
   "cell_type": "code",
   "execution_count": 5,
   "metadata": {},
   "outputs": [],
   "source": [
    "# コードはこの下から初めてください。\n"
   ]
  },
  {
   "cell_type": "markdown",
   "metadata": {},
   "source": [
    "## 10.2 range関数で制御する\n",
    "\n",
    "以前rangeの使い方少ししましたね。ここでもう一回紹介します。\n",
    "\n",
    "長いコードを書かなければならないリストと違い、```range```は非常に短い文章で一定の長さを設定することができます。 ```range``` 関数は条件で指定した値からリストを作成します。\n",
    "\n",
    "**ポイント： ```range``` の意味は「範囲」です。**\n",
    "\n",
    "range関数を部分的に勉強しましょう。\n",
    "1. 第一の場合に、書いた数値はrangeの長さになる。どれぐらいの長さになるか、その数値で設定する。\n",
    "```Python\n",
    "range([数値])\n",
    "```\n",
    "2. 第二の場合に、数値１はスタート（start）、数値２はエンド（end）。その指定された範囲に長さを設定する。\n",
    "```Python\n",
    "range([数値１],[数値２])\n",
    "```\n",
    "3. 第三の場合に、第二の場合に似ているが、数値３がある。その数値３を設定すれば、その値によってrangeを飛ばす。数値３＝５でしたら、毎回五個飛ばす。\n",
    "```Python\n",
    "range([数値１],[数値２],[数値３])\n",
    "```"
   ]
  },
  {
   "cell_type": "markdown",
   "metadata": {},
   "source": [
    "### 第一の場合\n",
    "\n",
    "ポイント：例で13を設定したんだけど、12までだけprintされた。rangeは毎回必ず最後設定された要素未満になる。さらに、０から始める。"
   ]
  },
  {
   "cell_type": "code",
   "execution_count": 21,
   "metadata": {},
   "outputs": [
    {
     "name": "stdout",
     "output_type": "stream",
     "text": [
      "0\n",
      "1\n",
      "2\n",
      "3\n",
      "4\n",
      "5\n",
      "6\n",
      "7\n",
      "8\n",
      "9\n",
      "10\n",
      "11\n",
      "12\n"
     ]
    }
   ],
   "source": [
    "for i in range(13):\n",
    "    print(i)"
   ]
  },
  {
   "cell_type": "markdown",
   "metadata": {},
   "source": [
    "### 第二の場合\n",
    "\n",
    "ポイント：この場合でも、11まで設定しても、その未満まで印刷された。が１から指定したから、０がない。"
   ]
  },
  {
   "cell_type": "code",
   "execution_count": 3,
   "metadata": {},
   "outputs": [
    {
     "name": "stdout",
     "output_type": "stream",
     "text": [
      "1\n",
      "2\n",
      "3\n",
      "4\n",
      "5\n",
      "6\n",
      "7\n",
      "8\n",
      "9\n",
      "10\n"
     ]
    }
   ],
   "source": [
    "for f in range(1, 11):\n",
    "    print(f)"
   ]
  },
  {
   "cell_type": "code",
   "execution_count": 4,
   "metadata": {},
   "outputs": [
    {
     "name": "stdout",
     "output_type": "stream",
     "text": [
      "6\n",
      "7\n",
      "8\n",
      "9\n",
      "10\n"
     ]
    }
   ],
   "source": [
    "for f in range(6, 11):\n",
    "    print(f)"
   ]
  },
  {
   "cell_type": "markdown",
   "metadata": {},
   "source": [
    "### 第三の場合\n",
    "\n",
    "ポイント：数値３によって、rangeを飛ばす。次の例に、数値３＝２だから、偶数だけprintされてしまう。"
   ]
  },
  {
   "cell_type": "code",
   "execution_count": 6,
   "metadata": {},
   "outputs": [
    {
     "name": "stdout",
     "output_type": "stream",
     "text": [
      "0\n",
      "2\n",
      "4\n",
      "6\n",
      "8\n",
      "10\n"
     ]
    }
   ],
   "source": [
    "for f in range(0, 11, 2):\n",
    "    print(f)"
   ]
  },
  {
   "cell_type": "code",
   "execution_count": 23,
   "metadata": {},
   "outputs": [
    {
     "name": "stdout",
     "output_type": "stream",
     "text": [
      "50\n",
      "60\n",
      "70\n",
      "80\n",
      "90\n"
     ]
    }
   ],
   "source": [
    "for y in range(50, 100, 10):\n",
    "    print(y)"
   ]
  },
  {
   "cell_type": "markdown",
   "metadata": {},
   "source": [
    "### 練習しましょう！\n",
    "\n",
    "1. 最初に、rangeの最も単純の使い方を練習しましょう。0から20までprintするfor文を作ってください。"
   ]
  },
  {
   "cell_type": "code",
   "execution_count": null,
   "metadata": {},
   "outputs": [],
   "source": [
    "# コードはこの下から初めてください。\n"
   ]
  },
  {
   "cell_type": "markdown",
   "metadata": {},
   "source": [
    "2. ついで、３０から４０までprintするが、printする前にそれぞれの要素に１を足してください。"
   ]
  },
  {
   "cell_type": "code",
   "execution_count": null,
   "metadata": {},
   "outputs": [],
   "source": [
    "# コードはこの下から初めてください。\n"
   ]
  },
  {
   "cell_type": "markdown",
   "metadata": {},
   "source": [
    "3. ０から１００の間に、偶数だけprintしてください。"
   ]
  },
  {
   "cell_type": "code",
   "execution_count": null,
   "metadata": {},
   "outputs": [],
   "source": [
    "# コードはこの下から初めてください。\n"
   ]
  }
 ],
 "metadata": {
  "kernelspec": {
   "display_name": "Python 3",
   "language": "python",
   "name": "python3"
  },
  "language_info": {
   "codemirror_mode": {
    "name": "ipython",
    "version": 3
   },
   "file_extension": ".py",
   "mimetype": "text/x-python",
   "name": "python",
   "nbconvert_exporter": "python",
   "pygments_lexer": "ipython3",
   "version": "3.7.4"
  }
 },
 "nbformat": 4,
 "nbformat_minor": 2
}
