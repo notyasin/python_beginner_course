{
 "cells": [
  {
   "cell_type": "markdown",
   "metadata": {},
   "source": [
    "# レッスン１３：Python の関数：関数定義の基本\n",
    "\n",
    "Python では `def` キーワードで、関数オブジェクトを定義できます。\n",
    "\n",
    "### オブジェクトとは？\n",
    "\n",
    "Python における オブジェクト (object) とは、データを抽象的に表したものです。Python プログラムにおけるデータは全て、オブジェクトまたはオブジェクト間の関係として表されます。\n",
    "\n",
    "すべてのオブジェクトは、同一性 (identity)、型、値をもっています。 `同一性` は生成されたあとは変更されません。これはオブジェクトのアドレス（アドレスは直接訳すれば、住所という意味です）のようなものだと考えられるかもしれません。それで、毎回そのオブジェクトを呼ぶ時、そのアドレス、または住所を基づいて、同じ値呼べられます（この場合における「値」は：数値、string、など）。\n",
    "\n",
    "つまり、オブジェクトの意義に基づいて、今まで利用されていつ変数もオブジェクトです。この例に、それぞれの変数が同一性を持って、それぞれの変数を呼ぶ時変数名を呼ぶ。その変数名をアドレスとして扱えて、printする時その変数名を呼ぶ。"
   ]
  },
  {
   "cell_type": "code",
   "execution_count": 8,
   "metadata": {},
   "outputs": [
    {
     "name": "stdout",
     "output_type": "stream",
     "text": [
      "45\n",
      "47\n",
      "[9, 8]\n"
     ]
    }
   ],
   "source": [
    "k = 45\n",
    "h = 47\n",
    "u = [9,8]\n",
    "\n",
    "print(k)\n",
    "print(h)\n",
    "print(u)"
   ]
  },
  {
   "cell_type": "markdown",
   "metadata": {},
   "source": [
    "## 関数オブジェクト\n",
    "\n",
    "**では、今回の授業で「関数」オブジェクトを紹介します**\n",
    "\n",
    "```Python\n",
    "def 関数名(引数1, 引数2, ..., 引数n):\n",
    "    「自分のコード、こっちで引数1, 引数2, ..., 引数nなど変数として扱われています。」\n",
    "    \n",
    "def example(hikisuu1, hikisuu2):\n",
    "    print(hikisuu1)\n",
    "    print(hikisuu2)\n",
    "\n",
    "def print(hikisuu1)\n",
    "    hikisuu1を印刷できるコード\n",
    "```\n",
    "\n",
    "#### 部分的に説明しましょう\n",
    "1. `def`　は　`defintion`（デフィニションと読める）から略語されました。`definition` は「定義」という意味を持っています。関数オブジェクトを定義できる役割をして、そのようなイメージを理解できます。\n",
    "2. 関数名の意味はそのままです。関数オブジェクトの下にコードを書いて、そのコードを実行するため、使いたい時ただ関数名を呼べばそべての囲まれたコードをまた書かず実行できます。次に示す図に、例として同じようにScratchに使える定義ブロックです。\n",
    "3. `(引数1, 引数2, ..., 引数n)`は関数オブジェクトの中に変数として扱えます。後で例を見せるから、使い方や意味もよりやすく理解できます。\n",
    "\n",
    "**そこで一つ聞きたい、関数はオブジェクトですか？YesかNoの理由も教えてください。**\n",
    "\n",
    "\n",
    "**ポイント：** 今まで使っているprint関数、append関数などは今回学ぶ「関数」と同じです。以前誰かがprint関数などを作って、他人を利用したい時ただ関数名を呼べばコードが動く。\n",
    "\n",
    "\n",
    "\n",
    "\n",
    "<img src=\"def.png\" alt=\"Drawing\" style=\"width: 900px;\"/>\n",
    "\n",
    "### 少し見せてみましょう！\n",
    "\n",
    "関数の使い方。"
   ]
  },
  {
   "cell_type": "code",
   "execution_count": 20,
   "metadata": {},
   "outputs": [
    {
     "name": "stdout",
     "output_type": "stream",
     "text": [
      "78\n",
      "156\n",
      "asumi\n",
      "asumiasumi\n",
      "lol\n",
      "lollol\n"
     ]
    }
   ],
   "source": [
    "def yasin(hikisuu):\n",
    "    print(hikisuu)\n",
    "    print(hikisuu * 2)\n",
    "    \n",
    "\n",
    "yasin(78)\n",
    "\n",
    "yasin(\"asumi\")\n",
    "\n",
    "yasin(\"lol\")"
   ]
  },
  {
   "cell_type": "code",
   "execution_count": 18,
   "metadata": {},
   "outputs": [
    {
     "name": "stdout",
     "output_type": "stream",
     "text": [
      "get them\n",
      "get themget them\n"
     ]
    }
   ],
   "source": [
    "yasin(\"get them\")"
   ]
  },
  {
   "cell_type": "markdown",
   "metadata": {},
   "source": [
    "## 13.1 関数を定義仕方 - 紹介。\n",
    "\n",
    "### 13.1.1 returnで結果を返す\n",
    "\n",
    "引数は任意です。ひとつも引数を受け取らない関数も作れます。\n",
    "\n",
    "関数の戻り値は `return` キーワードで返します。\n",
    "<br>**`return` は日本語で「返す」と言う意味を持っています。**\n",
    "\n",
    "例えば、引数として `x` と `y` の二つを受け取り、 それらを足し合わせて、関数の戻り値として返す関数 `add(x, y)` は、次のように定義できます。"
   ]
  },
  {
   "cell_type": "code",
   "execution_count": 26,
   "metadata": {},
   "outputs": [],
   "source": [
    "def add1(x, y):\n",
    "    total = x + y\n",
    "    return total\n",
    "\n",
    "\n",
    "def add2(x, y):\n",
    "    return x + y\n",
    "\n"
   ]
  },
  {
   "cell_type": "code",
   "execution_count": 28,
   "metadata": {},
   "outputs": [
    {
     "name": "stdout",
     "output_type": "stream",
     "text": [
      "17\n",
      "79\n",
      "17\n",
      "79\n"
     ]
    }
   ],
   "source": [
    "nam = add1(9, 8)\n",
    "print(nam)\n",
    "\n",
    "print(add1(34, 45))\n",
    "\n",
    "\n",
    "nam = add2(9, 8)\n",
    "print(nam)\n",
    "\n",
    "print(add2(34, 45))"
   ]
  },
  {
   "cell_type": "markdown",
   "metadata": {},
   "source": [
    "**ポイント：それぞれの関数を利用したい場合、関数を関数名で呼ばないといけない。その関数（あるいは、オブジェクト）を変数に代入されて、returnされている結果はその変数に代入されます。その変数をprintすれば、結果を表示できます。**"
   ]
  },
  {
   "cell_type": "code",
   "execution_count": 29,
   "metadata": {},
   "outputs": [
    {
     "name": "stdout",
     "output_type": "stream",
     "text": [
      "94\n",
      "94\n"
     ]
    }
   ],
   "source": [
    "hensuu1 = 4\n",
    "hensuu2 = 90\n",
    "\n",
    "kekka1 = add1(hensuu1, hensuu2)\n",
    "print(kekka1)\n",
    "\n",
    "kekka2 = add2(hensuu1, hensuu2)\n",
    "print(kekka2)"
   ]
  },
  {
   "cell_type": "markdown",
   "metadata": {},
   "source": [
    "少し練習しましょう。\n",
    "\n",
    "**小さい課題：**\n",
    "1. 二つの変数をかけられる関数を定義してから、結果をprintしてください\n",
    "2. 三つの変数を全てかけて、結果をprintで得てください"
   ]
  },
  {
   "cell_type": "code",
   "execution_count": null,
   "metadata": {},
   "outputs": [],
   "source": [
    "def m2020 ()"
   ]
  },
  {
   "cell_type": "code",
   "execution_count": null,
   "metadata": {},
   "outputs": [],
   "source": []
  },
  {
   "cell_type": "markdown",
   "metadata": {},
   "source": [
    "### 13.1.2 returnも 引数も 使用せず関数を実行する。\n",
    "\n",
    "returnを使わず、defを定義すればどう言う意味か考えてみてください。\n",
    "\n",
    "答え：計算結果など返せずにコードを実行する。\n",
    "\n",
    "このような関数の書き方も役に立てます。例えば関数の中にただのprintコードがあれば、そのままprintされます。例を見てみよう。この例でも、引数を使わず関数を実行できます。\n",
    "\n",
    "**なぜか、引数もreturnもないのに関数がまだ動けますか？\n",
    "<br>def関数は所詮コードの集まりを一名で表現に過ぎないから。**"
   ]
  },
  {
   "cell_type": "code",
   "execution_count": 31,
   "metadata": {},
   "outputs": [],
   "source": [
    "def print1():\n",
    "    print(\"This is Lesson 13\")\n",
    "    \n",
    "\n",
    "def print2():\n",
    "    print('I am a student in this school!')\n",
    "    \n",
    "\n",
    "def print3():\n",
    "    list1 = [1, 2, 3]\n",
    "    print(list1)"
   ]
  },
  {
   "cell_type": "code",
   "execution_count": 34,
   "metadata": {},
   "outputs": [
    {
     "name": "stdout",
     "output_type": "stream",
     "text": [
      "This is Lesson 13\n",
      "This is Lesson 13\n",
      "I am a student in this school!\n",
      "[1, 2, 3]\n",
      "This is Lesson 13\n",
      "This is Lesson 13\n",
      "This is Lesson 13\n",
      "This is Lesson 13\n",
      "This is Lesson 13\n",
      "This is Lesson 13\n",
      "This is Lesson 13\n",
      "This is Lesson 13\n",
      "This is Lesson 13\n",
      "This is Lesson 13\n"
     ]
    }
   ],
   "source": [
    "print1()\n",
    "print1()\n",
    "print2()\n",
    "print3()\n",
    "\n",
    "for i in range(10):\n",
    "    print1()"
   ]
  },
  {
   "cell_type": "markdown",
   "metadata": {},
   "source": [
    "### 13.1.3 動的に定義を切り替えることもできる\n",
    "\n",
    "条件によって関数オブジェクトの定義を変えることもできます。次の例では `i` の値によって `foo` の定義を切り替えています。"
   ]
  },
  {
   "cell_type": "code",
   "execution_count": 39,
   "metadata": {},
   "outputs": [
    {
     "name": "stdout",
     "output_type": "stream",
     "text": [
      "０か１を入力してください: 1\n",
      "5\n"
     ]
    }
   ],
   "source": [
    "i = int(input('０か１を入力してください: '))\n",
    "\n",
    "if i == 0:\n",
    "    def foo(x, y):\n",
    "        return x + y\n",
    "elif i == 1:\n",
    "    def foo(x, y):\n",
    "        return x - y\n",
    "\n",
    "print(foo(10, 5))"
   ]
  },
  {
   "cell_type": "markdown",
   "metadata": {},
   "source": [
    "実際は動作の異なる関数は別名で定義する方が望ましいです。この例は「やりたければできます」という程度で考えてください。\n",
    "\n",
    "**練習しましょう！**\n",
    "\n",
    "**小さい課題：**\n",
    "1. `i` は `0` だったら二つの変数を掛ける、`1`だったら一つ目の変数を一つ目の変数で割る。"
   ]
  },
  {
   "cell_type": "code",
   "execution_count": 42,
   "metadata": {},
   "outputs": [
    {
     "name": "stdout",
     "output_type": "stream",
     "text": [
      "0 か 1 を入力してください: 0\n",
      "50\n"
     ]
    }
   ],
   "source": [
    "i = int(input('0 か 1 を入力してください: '))\n",
    "\n",
    "if i == 0:\n",
    "    def foo(x, y):\n",
    "        return x * y\n",
    "elif i == 1:\n",
    "    def foo(x, y):\n",
    "        return x / y\n",
    "\n",
    "print(foo(10, 5))"
   ]
  },
  {
   "cell_type": "markdown",
   "metadata": {},
   "source": [
    "## 最後の課題\n",
    "\n",
    "今まで勉強した機能や関数を考慮して、def関数に入れましょう！\n",
    "\n",
    "1. for文で０から１０までprintできるコードをdef関数に入れて、実行してください。\n",
    "2. 以前作ったPython電卓のコードをdef関数に入れて、実行してください。"
   ]
  },
  {
   "cell_type": "code",
   "execution_count": null,
   "metadata": {},
   "outputs": [],
   "source": []
  }
 ],
 "metadata": {
  "kernelspec": {
   "display_name": "Python 3",
   "language": "python",
   "name": "python3"
  },
  "language_info": {
   "codemirror_mode": {
    "name": "ipython",
    "version": 3
   },
   "file_extension": ".py",
   "mimetype": "text/x-python",
   "name": "python",
   "nbconvert_exporter": "python",
   "pygments_lexer": "ipython3",
   "version": "3.7.4"
  }
 },
 "nbformat": 4,
 "nbformat_minor": 2
}
