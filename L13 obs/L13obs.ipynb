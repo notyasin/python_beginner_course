{
 "cells": [
  {
   "cell_type": "markdown",
   "metadata": {},
   "source": [
    "# レッスン１３：Python の関数：関数定義の基本\n",
    "\n",
    "Python では `def` キーワードで、関数オブジェクトを定義できます。\n",
    "\n",
    "### オブジェクトとは？\n",
    "\n",
    "Python における オブジェクト (object) とは、データを抽象的に表したものです。Python プログラムにおけるデータは全て、オブジェクトまたはオブジェクト間の関係として表されます。\n",
    "\n",
    "すべてのオブジェクトは、同一性 (identity)、型、値をもっています。 `同一性` は生成されたあとは変更されません。これはオブジェクトのアドレス（アドレスは直接訳すれば、住所という意味です）のようなものだと考えられるかもしれません。それで、毎回そのオブジェクトを呼ぶ時、そのアドレス、または住所を基づいて、同じ値呼べられます（この場合における「値」は：数値、string、など）。\n",
    "\n",
    "```Python\n",
    "def 関数名(引数1, 引数2, ..., 引数n):\n",
    "    「自分のコード、こっちで引数1, 引数2, ..., 引数nなど変数として扱われています。」```\n",
    "\n",
    "#### 部分的に説明しましょう\n",
    "1. `def`　は　`defintion`（デフィニションと読める）から略語されました。`definition`　は「定義」という意味を持っています。関数オブジェクトを定義できる役割をして、そのようなイメージを理解できます。\n",
    "2. 関数名の意味はそのままです。関数オブジェクトの下にコードを書いて、そのコードを実行するため、使いたい時ただ関数名を呼べばそべての囲まれたコードをまた書けず実行できます。次に示す図に、例として同じようにScratchに使える定義ブロックです。\n",
    "3. `(引数1, 引数2, ..., 引数n)`は関数オブジェクトの中に変数として扱えます。後で例を見せるから、使い方や意味もよりやすく理解できます。\n",
    "\n",
    "\n",
    "<img src=\"def.png\" alt=\"Drawing\" style=\"width: 600px;\"/>"
   ]
  },
  {
   "cell_type": "markdown",
   "metadata": {},
   "source": []
  }
 ],
 "metadata": {
  "kernelspec": {
   "display_name": "Python 3",
   "language": "python",
   "name": "python3"
  },
  "language_info": {
   "codemirror_mode": {
    "name": "ipython",
    "version": 3
   },
   "file_extension": ".py",
   "mimetype": "text/x-python",
   "name": "python",
   "nbconvert_exporter": "python",
   "pygments_lexer": "ipython3",
   "version": "3.7.4"
  }
 },
 "nbformat": 4,
 "nbformat_minor": 2
}
